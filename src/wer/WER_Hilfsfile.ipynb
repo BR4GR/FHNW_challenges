{
 "cells": [
  {
   "cell_type": "code",
   "execution_count": 1,
   "metadata": {},
   "outputs": [],
   "source": [
    "import math\n",
    "import scipy.stats as stats\n",
    "import numpy as np\n",
    "from scipy.stats import binomtest, ttest_1samp, t, ttest_ind, rankdata\n",
    "import random"
   ]
  },
  {
   "cell_type": "markdown",
   "metadata": {},
   "source": [
    "## LE1 - Zufallsexperimente, Wahrscheinlichkeit, Satz von Bayes"
   ]
  },
  {
   "cell_type": "markdown",
   "metadata": {},
   "source": [
    "### Laplace & Kombinatorik\n",
    "\n",
    "Laplace: Alle Ereignisse gleichwahrscheinlich.\n",
    "\n",
    "Ein Zufallsexperiment ist ein Experiment, welches beliebig oft wiederhohlt werden kann und bei jeder Durchführung ein bestimmtes Ergebnis aus einer bestimmten Menge von möglichen Ergebnissen annehmen kann.\n",
    "\n",
    "Welches der möglichen Ergebnisse angenommen wird ist nicht vorhersehbar. Die möglichen Ergebnisse bilden die Ergebnismenge &Omega;.\n",
    "\n",
    "Ein Ereigniss zu einem Zufallsexperiment ist eine Aussage die bei der Durchführung des Experiments entweder wahr oder falsch ist, je nach dem welches Ergebnis eingetreten ist."
   ]
  },
  {
   "cell_type": "markdown",
   "metadata": {},
   "source": [
    "#### Urnenmodel\n",
    "\n",
    "1) Mit Zurücklegen, mit Reihenfolge\n",
    "\n",
    "2) Ohne Zurücklegen, mit Reihenfolge\n",
    "\n",
    "3) Ohne Zurücklegen, ohne Reihenfolge"
   ]
  },
  {
   "cell_type": "code",
   "execution_count": 2,
   "metadata": {},
   "outputs": [],
   "source": [
    "# Mit Zurücklegen, mit Reihenfolge\n",
    "def urnenmodel_1(Anz_Kugeln_n, Anz_Male_k):\n",
    "    return Anz_Kugeln_n ** Anz_Male_k\n",
    "\n",
    "# Ohne Zurücklegen, mit Reihenfolge\n",
    "# Wenn die komplette Anzahl der Kugeln gezogen wir, ist n = k\n",
    "def urnenmodel_2(Anz_Kugeln_n, Anz_Male_k): # \n",
    "    return math.factorial(Anz_Kugeln_n) / (math.factorial(Anz_Kugeln_n - Anz_Male_k))\n",
    "\n",
    "# Ohne Zurücklegen, ohne Reihenfolge\n",
    "def urnenmodel_3(Anz_Kugeln_n, Anz_Male_k):\n",
    "    return math.factorial(Anz_Kugeln_n) / (math.factorial(Anz_Kugeln_n - Anz_Male_k) * math.factorial(Anz_Male_k))"
   ]
  },
  {
   "cell_type": "markdown",
   "metadata": {},
   "source": [
    "### Allgemeine und Bedingte Wahrscheinlichkeit\n",
    "\n",
    "P(E) ist die Wahrscheinlichkeit, das Ergebniss E eintrifft.\n",
    "\n",
    "P(A|B) ist die Wahrscheinlichkeit, das A eintrift, wenn B bereits eingetroffen ist.\n",
    "\n",
    "Die bedingte Wahrscheinlichkeit wird wie folgt definiert:\n",
    "\n",
    "$$ P(A|B) := \\frac{P(A \\cap B)}{P(B)} $$\n",
    "\n",
    "Eine alternative Darstellung der bedingten Wahrscheinlichkeit ist:\n",
    "\n",
    "$$ P(A|B) = \\frac{P(A)}{P(B)} \\cdot P(B|A) $$\n",
    "\n",
    "Für mehrstufige Zufallsexperimente gilt (ohne Zurücklegen):\n",
    "Multiplikation der Wahrscheinlichkeiten (Baum) für abhängige Resultate\n",
    "BSP: Drei mal eine 3 würfeln = 1/6 * 1/6 * 1/6\n",
    "\n",
    "Addition der Wahrscheilichkeiten für mehrere mögliche Ergebnisse\n",
    "\n",
    "BSP: Urne mit zwei verschiedenfarbigen Kugeln, Chance das die Dritte Kugel weiss ist = f(s, w, w) + f(s, s, w) + ... + f(w, w, w) =P(A) -> A: \"Dritte Kugel Weiss\"\n",
    "\n",
    "Für mehrstufige Zufallsexperimente gilt (mit Zurücklegen):\n",
    "Wahrscheinlichkeiten werden Multipliziert und bleiben immer gleich.\n",
    "Für Ergebnis das einmal A und dann B gezogen wird ist P(A) * P(B)"
   ]
  },
  {
   "cell_type": "markdown",
   "metadata": {},
   "source": [
    "## LE2 - Zufallsvariablen\n",
    "\n",
    "Um Zufallsvariablen als Verteilung anzeigen zu können, wir die 3. Version des Urnenmodels genommen und dann Wahrscheinlichkeit dafür mit der dagegen Multipliziert.\n",
    "$$ P(X = k) = \\binom{n}{k} p^k (1-p)^{n-k} $$"
   ]
  },
  {
   "cell_type": "markdown",
   "metadata": {},
   "source": [
    "Erwatrungswert: Ist der zu erwartende Wert bei mehrmaligem durchführen.\n",
    "Dabei werden je der Wert und die Wahrscheinlichkeit dafür multiplitziert und mit den anderen Werten Summiert.\n",
    "\n",
    "$$ E(X) = 0*P(X = 0) + 1*P(X = 1)+ ... + k-1 * P(X = k-1) + k * P(X = k) $$"
   ]
  },
  {
   "cell_type": "markdown",
   "metadata": {},
   "source": [
    "### Unterschied CDF und PDF\n",
    "Die PDF zeigt die Dichte der Wahrscheinlichkeiten an einem bestimmten Punkt (bei diskreten Verteilungen) oder die Dichte der Wahrscheinlichkeiten in einem kleinen Intervall (bei stetigen Verteilungen).\n",
    "\n",
    "Die CDF zeigt die kumulierte Wahrscheinlichkeit bis zu einem bestimmten Wert an.\n",
    "\n",
    "PDF ist dabei die Dichte\n",
    "\n",
    "CDF ist dabei die Verteilungsfunktion"
   ]
  },
  {
   "cell_type": "markdown",
   "metadata": {},
   "source": [
    "### Varianz und Standartabweichung\n",
    "\n",
    "X ist dabei die Zufallsvariable, und E der Erwartungswert (Mittelwert). Je kleiner Die Varianz, dest weniger streuen die Daten vom Mittelwert.\n",
    "$$ \\mathrm{Var}(X) = \\mathbb{E}\\left[(X - \\mathbb{E}[X])^2\\right] $$\n",
    "\n",
    "Die Standartabweichung ist die Wurzel aus der Varianz.\n",
    "$$ \\sigma = \\sqrt{\\mathrm{Var}(X)} = \\sqrt{\\mathbb{E}\\left[(X - \\mathbb{E}[X])^2\\right]} $$\n",
    "\n",
    "Die Standartabweichung kann auch wiefolgt berechnet werden:\n",
    "$$ \\sigma = \\sqrt{n * p * (1 - p)} $$\n",
    "\n",
    "Wobei der Mittelwert mu Anzahl mal Wahrscheinlichkeit ist $$ \\mu = n * p $$"
   ]
  },
  {
   "cell_type": "code",
   "execution_count": 3,
   "metadata": {},
   "outputs": [],
   "source": [
    "# Varianz berechnen (ddof=1 für Stichprobenvarianz, ddof=0 für Populationsvarianz)\n",
    "def var(data, ddof):\n",
    "    return np.var(data, ddof= ddof)\n",
    "\n",
    "def std(data, ddof):\n",
    "    return np.std(data, ddof= ddof)"
   ]
  },
  {
   "cell_type": "markdown",
   "metadata": {},
   "source": [
    "### Binominal-Verteilt\n",
    "\n",
    "Anzahl Treffer in n Versuchen\n",
    "\n",
    "binocdf steht für die kumulative Verteilungsfunktion (Cumulative Distribution Function, CDF) der Binomialverteilung. Diese Funktion gibt die Wahrscheinlichkeit an, dass eine binomialverteilte Zufallsvariable 𝑋 einen Wert kleiner oder gleich einem bestimmten Wert 𝑘 annimmt. Die Binomialverteilung beschreibt die Anzahl der Erfolge in einer festen Anzahl von unabhängigen Bernoulli-Experimenten (wie Münzwürfen), wobei jedes Experiment zwei mögliche Ergebnisse hat (Erfolg oder Misserfolg).\n",
    "\n",
    "Dichte wir wie folgt berechnet:"
   ]
  },
  {
   "cell_type": "code",
   "execution_count": 30,
   "metadata": {},
   "outputs": [
    {
     "name": "stdout",
     "output_type": "stream",
     "text": [
      "0.15865525393145707\n",
      "0.00010052458585138576\n"
     ]
    }
   ],
   "source": [
    "# k = Wert, der Zufallsvariable (In pdf Zufallsvariable = k, in cdf Zufallsvariable <= k)\n",
    "# n = Anzahl der Versuche\n",
    "# p = Wahrscheinlichkeit für Erfolg\n",
    "\n",
    "\n",
    "\n",
    "def binopdf(k, n, p):\n",
    "    pdf = stats.binom.pmf(k, n, p)\n",
    "    print(f\"Die Wahrscheinlichkeit, genau {k} Treffer in {n} Versuchen zu erhalten, beträgt {pdf:.4f}\")\n",
    "    return pdf\n",
    "\n",
    "# Wenn die anforderung mindestens k ist, dann ist die Wahrscheinlichkeit 1 - binom.cdf(k-1, n, p)\n",
    "\n",
    "def binocdf(k, n, p):\n",
    "    cdf = stats.binom.cdf(k, n, p)\n",
    "    print(f\"Die Wahrscheinlichkeit, höchstens {k} Treffer in {n} Versuchen zu erhalten, beträgt {cdf:.4f}\")\n",
    "    return cdf\n",
    "\n",
    "\n",
    "\n",
    "k = 5\n",
    "n = 5\n",
    "p = stats.norm.cdf(60, 70, 10)\n",
    "print(p)\n",
    "print(stats.binom.pmf(k, n, p))"
   ]
  },
  {
   "cell_type": "markdown",
   "metadata": {},
   "source": [
    "### Geometrische Verteilung\n",
    "\n",
    "Versuche bis erster Treffer\n",
    "\n",
    "Die Verteilung sagt aus, wie hoch die Wahrscheinlichkeit ist, dass alle Vorherigen keine Treffer waren und nun ein Treffer kommt."
   ]
  },
  {
   "cell_type": "code",
   "execution_count": 24,
   "metadata": {},
   "outputs": [
    {
     "name": "stdout",
     "output_type": "stream",
     "text": [
      "Die Wahrscheinlichkeit, dass der erste Erfolg in Versuch 3 eintritt, beträgt 0.1250\n",
      "0.125\n"
     ]
    }
   ],
   "source": [
    "# k = k-1 versuche waren keine Treffer und k war der erste Treffer\n",
    "# p = Wahrscheinlichkeit für Erfolg\n",
    "\n",
    "def geopdf(k, p):\n",
    "    pdf = stats.geom.pmf(k, p)\n",
    "    print(f\"Die Wahrscheinlichkeit, dass der erste Erfolg in Versuch {k} eintritt, beträgt {pdf:.4f}\")\n",
    "    return pdf\n",
    "\n",
    "# k = Letzte Runde, in der der erste Erfolg eintritt\n",
    "\n",
    "def geocdf(k, p):\n",
    "    cdf = stats.geom.cdf(k, p)\n",
    "    print(f\"Die Wahrscheinlichkeit, dass der erste Erfolg in Versuch {k} oder früher eintritt, beträgt {cdf:.4f}\")\n",
    "    return cdf\n",
    "\n",
    "print(geopdf(3, 0.5))"
   ]
  },
  {
   "cell_type": "markdown",
   "metadata": {},
   "source": [
    "### Hypergeometrische Verteilung\n",
    "\n",
    "Die hypergeometrische Verteilung ist eine Wahrscheinlichkeitsverteilung, die die Wahrscheinlichkeit beschreibt, dass eine bestimmte Anzahl von Erfolgen in einer Stichprobe ohne Zurücklegen aus einer endlichen Population auftritt. Diese Verteilung ist besonders nützlich in Situationen, in denen Objekte ohne Zurücklegen ausgewählt werden, wie z.B. bei der Qualitätskontrolle oder bei Lotterien."
   ]
  },
  {
   "cell_type": "code",
   "execution_count": 6,
   "metadata": {},
   "outputs": [],
   "source": [
    "# k = Anzahl der gewünschten Erfolge\n",
    "# N = Gesamtanzahl der Menge\n",
    "# K = Anzahl der Erfolge in der Menge\n",
    "# n = Anzahl Versuche\n",
    "\n",
    "def hypergeopdf(k, N, K, n):\n",
    "    pdf = stats.hypergeom.pmf(k, N, K, n)\n",
    "    print(f\"Die Wahrscheinlichkeit, genau {k} Erfolge in {n} Versuchen zu erhalten, beträgt {pdf:.4f}\")\n",
    "    return pdf\n",
    "\n",
    " # k = Maximale Anzahl der gewünschten Erfolge\n",
    "\n",
    "def hypergeocdf(k, N, K, n):\n",
    "    cdf = stats.hypergeom.cdf(k, N, K, n)\n",
    "    print(f\"Die Wahrscheinlichkeit, höchstens {k} Erfolge in {n} Versuchen zu erhalten, beträgt {cdf:.4f}\")\n",
    "    return cdf"
   ]
  },
  {
   "cell_type": "markdown",
   "metadata": {},
   "source": [
    "### Poisson - Verteilung\n",
    "\n",
    "Poisson-Verteilung kommt bei Zuffalsvariablen zum Einsatz, welche die Anzahl Ereignisse einer bestimmten Art in einem Zeit- und/oder Ort-Intervall beschreiben."
   ]
  },
  {
   "cell_type": "code",
   "execution_count": 7,
   "metadata": {},
   "outputs": [],
   "source": [
    "# k = Zuffalsvariable\n",
    "# lambda = Erwartungswert (Mittelwert)\n",
    "\n",
    "def poissonpdf(k, lambd):\n",
    "    pdf = stats.poisson.pmf(k, lambd)\n",
    "    print(f\"Die Wahrscheinlichkeit, genau {k} Erfolge zu erhalten, beträgt {pdf:.4f}\")\n",
    "    return pdf\n",
    "\n",
    "def poissoncdf(k, lambd):\n",
    "    cdf = stats.poisson.cdf(k, lambd)\n",
    "    print(f\"Die Wahrscheinlichkeit, höchstens {k} Erfolge zu erhalten, beträgt {cdf:.4f}\")\n",
    "    return cdf"
   ]
  },
  {
   "cell_type": "markdown",
   "metadata": {},
   "source": [
    "### Stetige Gleichverteilung\n",
    "\n",
    "Eine Verteilung auf einem Intervall mit konstanter Dichte"
   ]
  },
  {
   "cell_type": "code",
   "execution_count": 8,
   "metadata": {},
   "outputs": [],
   "source": [
    "# x = Zufallsvariable\n",
    "# a = Startwert\n",
    "# b = Endwert\n",
    "\n",
    "def uniformpdf(x, a, b):\n",
    "    pdf = stats.uniform.pdf(x, a, b-a)\n",
    "    print(f\"Die Wahrscheinlichkeit, dass x = {x} beträgt {pdf:.4f}\")\n",
    "    return pdf\n",
    "\n",
    "def uniformcdf(x, a, b):\n",
    "    cdf = stats.uniform.cdf(x, a, b-a)\n",
    "    print(f\"Die Wahrscheinlichkeit, dass x <= {x} beträgt {cdf:.4f}\")\n",
    "    return cdf"
   ]
  },
  {
   "cell_type": "markdown",
   "metadata": {},
   "source": [
    "### Normalverteilung\n",
    "\n",
    "Normalverteilung ist die Häufigste Verteilung sie wird mithilfe der Dichte bestimmt.\n",
    "\n",
    "Mit norminv, wir der wert berechnet an dem eine gewisse Prozentzahl erreicht wird."
   ]
  },
  {
   "cell_type": "code",
   "execution_count": 9,
   "metadata": {},
   "outputs": [],
   "source": [
    "# x = Zufallsvariable\n",
    "# mu = Erwartungswert (Mittelwert)\n",
    "# sigma = Standardabweichung\n",
    "\n",
    "def normpdf(x, mu, sigma):\n",
    "    pdf = stats.norm.pdf(x, mu, sigma)\n",
    "    print(f\"Die Wahrscheinlichkeit, dass x = {x} beträgt {pdf:.4f}\")\n",
    "    return pdf\n",
    "\n",
    "def normcdf(x, mu, sigma):\n",
    "    cdf = stats.norm.cdf(x, mu, sigma)\n",
    "    print(f\"Die Wahrscheinlichkeit, dass x <= {x} beträgt {cdf:.4f}\")\n",
    "    return cdf\n",
    "\n",
    "def norminv(p, mu, sigma):\n",
    "    inv = stats.norm.ppf(p, mu, sigma)\n",
    "    print(f\"Der Wert, bei dem die Wahrscheinlichkeit {p} beträgt, beträgt {inv:.4f}\")\n",
    "    return inv"
   ]
  },
  {
   "cell_type": "markdown",
   "metadata": {},
   "source": [
    "### Exponentialverteilung\n",
    "\n",
    "Beschreibt Werte, welche über Zeit abnehmen (BSP: Lebensdauer)"
   ]
  },
  {
   "cell_type": "code",
   "execution_count": 10,
   "metadata": {},
   "outputs": [],
   "source": [
    "# x = Zufallsvariable\n",
    "# lambd = Rate\n",
    "\n",
    "def exppdf(x, lambd):\n",
    "    pdf = stats.expon.pdf(x, lambd)\n",
    "    print(f\"Die Wahrscheinlichkeit, dass x = {x} beträgt {pdf:.4f}\")\n",
    "    return pdf\n",
    "\n",
    "def expcdf(x, lambd):\n",
    "    cdf = stats.expon.cdf(x, lambd)\n",
    "    print(f\"Die Wahrscheinlichkeit, dass x <= {x} beträgt {cdf:.4f}\")\n",
    "    return cdf\n",
    "\n"
   ]
  },
  {
   "cell_type": "markdown",
   "metadata": {},
   "source": [
    "### Unabhängigkeit von Zuffalsvariablen\n",
    "\n",
    "Wenn X und Y unabhängig voneinander sind, gilt:\n",
    "\n",
    "$$ X + Y \\sim \\text{Poisson}(\\lambda_x + \\lambda_y) $$\n",
    "$$ X + Y \\sim \\text{Binomial}(n_x + n_y, p) $$"
   ]
  },
  {
   "cell_type": "markdown",
   "metadata": {},
   "source": [
    "### Ungleichung von Tschebyscheff\n",
    "\n",
    "Es sei X eine Zufallsvariable mit Erwartungswert &mu; und einer endlichen Varianz &sigma;<sup>2</sup>.\n",
    "$$ P\\left( |X - \\mu| \\geq k \\right) \\leq \\frac{\\sigma^2}{k^2} $$"
   ]
  },
  {
   "cell_type": "code",
   "execution_count": 11,
   "metadata": {},
   "outputs": [],
   "source": [
    "# X = Zufallsvariable\n",
    "# mu = Erwartungswert (Mittelwert)\n",
    "# sigma = Standardabweichung\n",
    "# k = Abstand von mu -> wenn X und mu eingetragen sind, wird k automatisch berechnet\n",
    "\n",
    "def tschebyscheff(X, mu, sigma):\n",
    "    # Berechne den Abstand k\n",
    "    k = abs(X - mu)\n",
    "    print(sigma)\n",
    "    print(k)\n",
    "    # Berechne die obere Schranke für die Wahrscheinlichkeit\n",
    "    if k == 0:\n",
    "        return 1  # Wenn k = 0, ist die Wahrscheinlichkeit 1\n",
    "    else:\n",
    "        return (sigma**2) / (k**2)"
   ]
  },
  {
   "cell_type": "markdown",
   "metadata": {},
   "source": [
    "## LE3 - Parameterschätzung\n",
    "\n",
    "Man versucht mithilfe einer Stichprobe, eine Aussage über eine Gesamtheit zu tätigen.\n",
    "\n",
    "Punkteschätzer: Sind einzige Werte: z.B. Erwartungswert, Varianz, Standardabweichung\n",
    "\n",
    "Intervallschätzung: Ein Parameter liegt mit einer Gewissen Wahrscheinlichkeit indiesem Intervall. (Konfidenzintervall)"
   ]
  },
  {
   "cell_type": "code",
   "execution_count": 32,
   "metadata": {},
   "outputs": [
    {
     "name": "stdout",
     "output_type": "stream",
     "text": [
      "2.7386127875258306\n",
      "1.959963984540054\n",
      "(7.6324175688485285, 18.367582431151472)\n"
     ]
    }
   ],
   "source": [
    "# mu = Erwartungswert (Mittelwert)\n",
    "# sigma = Standardabweichung\n",
    "# n = Anzahl der Versuche (Stichprobenanzahl)\n",
    "# alpha = Signifikanzniveau (1 - Konfidenzniveau) z.B. 0.05 (95% Konfidenzniveau)\n",
    "\n",
    "def konfidenzintervall(mu, sigma, n, alpha):\n",
    "    # Berechne die Standardabweichung der Stichprobe\n",
    "    sigma_x = sigma / math.sqrt(n)\n",
    "    print(sigma_x)\n",
    "    # Berechne den Z-Wert für das Konfidenzintervall\n",
    "    z = stats.norm.ppf(1 - alpha/2)\n",
    "    print(z)\n",
    "    # Berechne das Konfidenzintervall\n",
    "    return mu - z * sigma_x, mu + z * sigma_x\n",
    "\n",
    "print(konfidenzintervall(13, 15, 30, 0.05))"
   ]
  },
  {
   "cell_type": "markdown",
   "metadata": {},
   "source": [
    "T-Verteilungen, werden bei sehr kleinen Stichproben verwendet (n <= 30)."
   ]
  },
  {
   "cell_type": "code",
   "execution_count": 13,
   "metadata": {},
   "outputs": [],
   "source": [
    "def t_konfidenzintervall(mu, sigma, n, alpha):\n",
    "    # Berechne die Standardabweichung der Stichprobe\n",
    "    sigma_x = sigma / math.sqrt(n)\n",
    "    # Berechne den Z-Wert für das Konfidenzintervall\n",
    "    t = stats.t.ppf(1 - alpha/2, n-1)\n",
    "    # Berechne das Konfidenzintervall\n",
    "    return mu - t * sigma_x, mu + t * sigma_x"
   ]
  },
  {
   "cell_type": "markdown",
   "metadata": {},
   "source": [
    "Mit der Bestimmung des Konfidenzintervalls kann mithilfe einer Stichprobe eine Aussage über die Gesamte Population getätigt werden."
   ]
  },
  {
   "cell_type": "code",
   "execution_count": 34,
   "metadata": {},
   "outputs": [
    {
     "name": "stdout",
     "output_type": "stream",
     "text": [
      "0.015725647840391186\n",
      "(0.5211782965992733, 0.5828217034007268)\n"
     ]
    }
   ],
   "source": [
    "# k = Anzahl der Erfolge\n",
    "# n = Anzahl der Versuche\n",
    "# alpha = Signifikanzniveau (1 - Konfidenzniveau) z.B. 0.05 (95% Konfidenzniveau)\n",
    "\n",
    "def bestimmung_konfidenzintervall(k, n, alpha):\n",
    "    # Berechne die Wahrscheinlichkeit, dass die Zufallsvariable k ist\n",
    "    p = k / n\n",
    "    # Berechne die Standardabweichung der Stichprobe\n",
    "    sigma_x = math.sqrt(p * (1 - p) / n)\n",
    "    print(sigma_x)\n",
    "    # Berechne den Z-Wert für das Konfidenzintervall\n",
    "    z = stats.norm.ppf(1 - alpha/2)\n",
    "    # Berechne das Konfidenzintervall\n",
    "    return p - z * sigma_x, p + z * sigma_x\n",
    "\n",
    "print(bestimmung_konfidenzintervall(552, 1000, 0.05))\n"
   ]
  },
  {
   "cell_type": "markdown",
   "metadata": {},
   "source": [
    "## LE4 - Hypotesentest\n",
    "\n",
    "Die Nullhypothese H₀ ist gleich der gewünschten Annahme.\n",
    "\n",
    "Die Alternativhypothese H₁ ist alles andere.\n",
    "\n",
    "<br>\n",
    "<br>\n",
    "P-Wert: Wahrscheinlichkeiten, das der einzelnen Binominalverteilungen ausrechnen und zusammen addieren. Dann schauen, ob P Wert höher als Signifikanzwert ist.\n",
    "<br>\n",
    "\n",
    "<br>\n",
    "\n",
    "Fehler 1. Art: Nullhypothese wird Abgelehnt obwohl sie Wahr ist. Kann durch &alpha; eingeschränkt werden.\n",
    "\n",
    "Fehler 2. Art: Nullhypothese wir beibehalten ist aber Falsch. Wird indirekt durch 1 - &alpha; eingeschränkt.\n",
    "\n",
    "Je kleiner die Chance auf Fehler 1. Art, desto grösser Fehler 2. Art."
   ]
  },
  {
   "cell_type": "markdown",
   "metadata": {},
   "source": [
    "### Binominal Test\n",
    "\n",
    "Wird verwendet bei Bernoulli Experimenten (Treffer oder kein Treffer)"
   ]
  },
  {
   "cell_type": "code",
   "execution_count": 15,
   "metadata": {},
   "outputs": [],
   "source": [
    "# X = Anzahl der Erfolge\n",
    "# n = Anzahl der Versuche\n",
    "# p = Wahrscheinlichkeit für Erfolg\n",
    "# alternative = 'two-sided', 'greater', 'less'\n",
    "# alpha = Signifikanzniveau (1 - Konfidenzniveau) z.B. 0.05 (95% Konfidenzniveau)\n",
    "\n",
    "\n",
    "\n",
    "def binomial_test(X, n, p, alternative='two-sided' , alpha=0.05):\n",
    "    result = stats.binomtest(X, n, p, alternative=alternative)\n",
    "    p_value = result.pvalue\n",
    "\n",
    "    \n",
    "    if alternative == 'two-sided':\n",
    "        critical_value_lower = stats.binom.ppf(alpha / 2, n, p)\n",
    "        critical_value_upper = stats.binom.ppf(1 - alpha / 2, n, p)\n",
    "        critical_value = (critical_value_lower, critical_value_upper)\n",
    "    elif alternative == 'greater':\n",
    "        critical_value = stats.binom.ppf(1 - alpha, n, p)\n",
    "    else:\n",
    "        critical_value = stats.binom.ppf(alpha, n, p)\n",
    "    \n",
    "    reject_null = p_value < alpha\n",
    "\n",
    "    print(f\"p-Wert: {p_value}, Kritischer Wert (Gerade noch OK): {critical_value}, Nullhypothese verwerfen: {reject_null}\")\n",
    "\n",
    "    return {\n",
    "        'p_value': p_value,\n",
    "        'critical_value': critical_value,\n",
    "        'reject_null': reject_null\n",
    "    }\n"
   ]
  },
  {
   "cell_type": "markdown",
   "metadata": {},
   "source": [
    "### T-Test\n",
    "\n",
    "Einstichproben t-Test: Abweichung des Mittelwerts mit einem Vergleichswert. (Kann links, rechts oder beidseitig sein)\n",
    "\n",
    "Zweistichproben t-Test: Vergleich zweier Stichproben und deren Mittelwert.\n",
    "\n",
    "Ist der T-Wert kleiner als der Kritische wert, wird die Nullhypothese abgelehnt (Wenn linksseitig).\n",
    "\n",
    "Std kann mithilfe von np.std(data) berechnet werden."
   ]
  },
  {
   "cell_type": "code",
   "execution_count": 33,
   "metadata": {},
   "outputs": [
    {
     "name": "stdout",
     "output_type": "stream",
     "text": [
      "Nullhypothese verwerfen: True, Kritischer Wert: 2.045229642132703, t-Statistik (t-Wert): -2.7386127875258306\n",
      "(True, 2.045229642132703)\n"
     ]
    }
   ],
   "source": [
    "# Sample Mean = Stichprobenmittelwert (Muss evt aus der Stichprobe berechnet werden)\n",
    "# Sample Std = Stichprobenstandardabweichung (Muss evt aus der Stichprobe berechnet werden)\n",
    "# Pop Mean = Populationsmittelwert\n",
    "# n = Grösser der Stichprobe\n",
    "# alternative = 'two-sided', 'greater', 'less' (Default: 'two-sided')\n",
    "# alpha = Signifikanzniveau (1 - Konfidenzniveau) z.B. 0.05 (95% Konfidenzniveau)\n",
    "\n",
    "\n",
    "\n",
    "def t_test_1sample(sample_mean, sample_std, pop_mean, n, alternative='two-sided', alpha=0.05):\n",
    "    \n",
    "    if alternative == 'two-sided':\n",
    "        alpha = alpha / 2  # Anpassung des Signifikanzniveaus für einen beidseitigen Test\n",
    "    \n",
    "    # Berechnung der t-Statistik\n",
    "    t_statistic = (sample_mean - pop_mean) / (sample_std / (n ** 0.5))\n",
    "   \n",
    "    # Berechnung des kritischen Werts entsprechend dem gewählten Testtyp\n",
    "    if alternative == 'two-sided':\n",
    "        critical_value = stats.t.ppf(1 - alpha, n-1)\n",
    "    elif alternative == 'greater':\n",
    "        critical_value = stats.t.ppf(1 - alpha, n-1)\n",
    "    elif alternative == 'less':\n",
    "        critical_value = stats.t.ppf(alpha, n-1)\n",
    "    else:\n",
    "        raise ValueError(\"Ungültige Alternative. Gültige Werte sind 'two-sided', 'greater' oder 'less'.\")\n",
    "    \n",
    "    # Überprüfen, ob die Nullhypothese verworfen wird\n",
    "    reject_null = abs(t_statistic) > critical_value\n",
    "\n",
    "    print(f\"Nullhypothese verwerfen: {reject_null}, Kritischer Wert: {critical_value}, t-Statistik (t-Wert): {t_statistic}\")\n",
    "    \n",
    "    return reject_null, critical_value\n",
    "\n",
    "\n",
    "print(t_test_1sample(13, 4, 15, 30))"
   ]
  },
  {
   "cell_type": "code",
   "execution_count": 17,
   "metadata": {},
   "outputs": [],
   "source": [
    "# Sample Mean 1 = Stichprobenmittelwert der ersten Stichprobe\n",
    "# Sample Std 1 = Stichprobenstandardabweichung der ersten Stichprobe\n",
    "# n1 = Grösse der ersten Stichprobe\n",
    "# Sample Mean 2 = Stichprobenmittelwert der zweiten Stichprobe\n",
    "# Sample Std 2 = Stichprobenstandardabweichung der zweiten Stichprobe\n",
    "# n2 = Grösse der zweiten Stichprobe\n",
    "# alternative = 'two-sided', 'greater', 'less' (Default: 'two-sided')\n",
    "# alpha = Signifikanzniveau (1 - Konfidenzniveau) z.B. 0.05 (95% Konfidenzniveau)\n",
    "\n",
    "def t_test_2sample(sample1_mean, sample1_std, n1, sample2_mean, sample2_std, n2, alternative='two-sided', alpha=0.05):\n",
    "    \n",
    "    if alternative == 'two-sided':\n",
    "        alpha = alpha / 2  # Anpassung des Signifikanzniveaus für einen beidseitigen Test\n",
    "    \n",
    "    # Berechnung der gepoolten Standardabweichung\n",
    "    pooled_std = ((n1 - 1) * sample1_std**2 + (n2 - 1) * sample2_std**2) / (n1 + n2 - 2)\n",
    "    pooled_std = pooled_std**0.5\n",
    "    \n",
    "    # Berechnung der t-Statistik\n",
    "    t_statistic = (sample1_mean - sample2_mean) / (pooled_std * (1/n1 + 1/n2)**0.5)\n",
    "    \n",
    "    # Berechnung des kritischen Werts entsprechend dem gewählten Testtyp\n",
    "    if alternative == 'two-sided':\n",
    "        critical_value = stats.t.ppf(1 - alpha, n1 + n2 - 2)\n",
    "    elif alternative == 'greater':\n",
    "        critical_value = stats.t.ppf(1 - alpha, n1 + n2 - 2)\n",
    "    elif alternative == 'less':\n",
    "        critical_value = stats.t.ppf(alpha, n1 + n2 - 2)\n",
    "    else:\n",
    "        raise ValueError(\"Ungültige Alternative. Gültige Werte sind 'two-sided', 'greater' oder 'less'.\")\n",
    "    \n",
    "    # Überprüfen, ob die Nullhypothese verworfen wird\n",
    "    reject_null = abs(t_statistic) > critical_value\n",
    "    \n",
    "    return reject_null, critical_value"
   ]
  },
  {
   "cell_type": "markdown",
   "metadata": {},
   "source": [
    "### Mann Whitney U Test\n",
    "\n",
    "Wird angewandt, für geringere Anforderungen an den Daten (nicht normalverteilt, kleine Stichproben, Ausreisser).\n",
    "\n",
    "Es werden Unterschiedshypothesen geprüft. Eine unabhängige und eine Abhängige Variable werden benötigt. Aufteilung nach unabhängig und überprüfung der Abhängigen (BSP: Medienzeit von Männern und Frauen)\n",
    "\n",
    "Die Daten werden nach abhängigen Variabeln sortiert und im Anschluss in eine Rangliste geordnet und Punkte vergeben, Danach zusammengezählt und ausgewertet."
   ]
  },
  {
   "cell_type": "code",
   "execution_count": 18,
   "metadata": {},
   "outputs": [],
   "source": [
    "# group1 = Daten der ersten Gruppe\n",
    "# group2 = Daten der zweiten Gruppe\n",
    "# alternative = 'two-sided', 'greater', 'less' (Default: 'two-sided')\n",
    "# alpha = Signifikanzniveau (1 - Konfidenzniveau) z.B. 0.05 (95% Konfidenzniveau)\n",
    "\n",
    "def mann_whitney_u(group1, group2, alternative='two-sided',alpha=0.05):\n",
    "    u_statistic, p_value = stats.mannwhitneyu(group1, group2)\n",
    "\n",
    "    print(f\"U-Statistik: {u_statistic}, p-Wert: {p_value}\")\n",
    "\n",
    "    if p_value < alpha:\n",
    "        print(\"Der Unterschied zwischen den Gruppen ist signifikant.\")\n",
    "    else:\n",
    "        print(\"Es gibt keinen signifikanten Unterschied zwischen den Gruppen.\")\n",
    "\n",
    "    # Berechnung des kritischen Werts\n",
    "    if alternative == 'two-sided':\n",
    "        critical_value = stats.distributions.norm.ppf(1 - alpha / 2)\n",
    "    elif alternative == 'greater':\n",
    "        critical_value = stats.distributions.norm.ppf(1 - alpha)\n",
    "    elif alternative == 'less':\n",
    "        critical_value = stats.distributions.norm.ppf(alpha)\n",
    "    else:\n",
    "        raise ValueError(\"Ungültige Alternative. Gültige Werte sind 'two-sided', 'greater' oder 'less'.\")\n",
    "    \n",
    "    print(f\"Kritischer Wert: {critical_value}\")\n",
    "    \n",
    "    return u_statistic, p_value\n"
   ]
  },
  {
   "cell_type": "markdown",
   "metadata": {},
   "source": [
    "### Chi Quadrat Test\n",
    "\n",
    "Überprüft, ob zwei Variablen stochastisch unabhängig sind.\n",
    "\n",
    "Stichprobe >50 und zufallsverteilt und die Daten müssen Absolut und Gruppiert sein.\n",
    "\n",
    "Ist der Chi-Quadrat test höher als der Kritische Wert, besteht ein Zusammenhang.\n",
    "\n"
   ]
  },
  {
   "cell_type": "code",
   "execution_count": 19,
   "metadata": {},
   "outputs": [],
   "source": [
    "# data = Daten als Liste von Listen\n",
    "# alpha = Signifikanzniveau (1 - Konfidenzniveau) z.B. 0.05 (95% Konfidenzniveau)\n",
    "\n",
    "def chi_quadrat_test(data, alpha=0.05):\n",
    "    stat, p_value, dof, expected = stats.chi2_contingency(data, correction=False)\n",
    "\n",
    "    print(f\"Chi-Quadrat-Statistik: {stat}\")\n",
    "    print(f\"p-Wert: {p_value}\")\n",
    "    print(f\"Freiheitsgrade: {dof}\")\n",
    "    print(f\"Erwartete Werte: {expected}\")\n",
    "\n",
    "    critical_value = stats.chi2.ppf(1 - alpha, dof)\n",
    "    print(f\"Kritischer Wert: {critical_value}\")\n",
    "\n",
    "    if stat > critical_value:\n",
    "        print(\"Die Nullhypothese wird verworfen. (Statistischer Zusammenhang)\")\n",
    "    else:\n",
    "        print(\"Die Nullhypothese wird nicht verworfen. (Kein statistischer Zusammenhang)\")\n",
    "    "
   ]
  },
  {
   "cell_type": "markdown",
   "metadata": {},
   "source": [
    "### Kolmogorov-Smirnow-Test\n",
    "\n",
    "Wir verwendet, um zu schauen ob eine Stichprobe einer bestimmten Verteilung entspricht (Ein sample KS-Test). Oder ob zwei Stichproben gleich verteilt sind (Zwei sample KS-Test)."
   ]
  },
  {
   "cell_type": "code",
   "execution_count": 20,
   "metadata": {},
   "outputs": [],
   "source": [
    "# data = Daten als Liste\n",
    "# alpha = Signifikanzniveau (1 - Konfidenzniveau) z.B. 0.05 (95% Konfidenzniveau)\n",
    "\n",
    "def kolmogorov_smirnow_test_1sample(data, alpha=0.05):\n",
    "    stat, p_value = stats.kstest(data, 'norm')\n",
    "\n",
    "    n = len(data)\n",
    "    critical_value = stats.kstwobign.ppf(1 - alpha) / np.sqrt(n)\n",
    "\n",
    "    print(f\"Kolmogorov-Smirnov-Statistik: {stat}\")\n",
    "    print(f\"p-Wert: {p_value}\")\n",
    "    print(f\"Kritischer Wert: {critical_value}\")\n",
    "\n",
    "    if p_value < alpha:\n",
    "        print(\"Die Nullhypothese wird verworfen. (Verteilung ist nicht normalverteilt)\")\n",
    "    else:\n",
    "        print(\"Die Nullhypothese wird nicht verworfen. (Verteilung ist normalverteilt)\")\n",
    "\n",
    "\n",
    "def kolmogorov_smirnow_test_2sample(data1, data2, alpha=0.05):\n",
    "    stat, p_value = stats.ks_2samp(data1, data2)\n",
    "\n",
    "    # Berechnung des kritischen Wertes\n",
    "    n1 = len(data1)\n",
    "    n2 = len(data2)\n",
    "    n = n1 * n2 / (n1 + n2)\n",
    "    critical_value = stats.kstwobign.ppf(1 - alpha) / np.sqrt(n)\n",
    "\n",
    "    print(f\"Kolmogorov-Smirnov-Statistik: {stat}\")\n",
    "    print(f\"p-Wert: {p_value}\")\n",
    "    print(f\"Kritischer Wert: {critical_value}\")\n",
    "    if p_value < alpha:\n",
    "        print(\"Die Nullhypothese wird verworfen. (Verteilungen sind nicht gleich)\")\n",
    "    else:\n",
    "        print(\"Die Nullhypothese wird nicht verworfen. (Verteilungen sind gleich)\")"
   ]
  },
  {
   "cell_type": "code",
   "execution_count": 21,
   "metadata": {},
   "outputs": [
    {
     "data": {
      "text/plain": [
       "1064.114390511958"
      ]
     },
     "execution_count": 21,
     "metadata": {},
     "output_type": "execute_result"
    }
   ],
   "source": [
    "#Beispiel Monte Carlo Simulation\n",
    "\n",
    "def monte_carlo_simulation(n):\n",
    "\n",
    "    summe = 0 # Definition für in der for-Schleife einsetzen zu können\n",
    "    count = 0 # Zähler für die Anzahl der Simulationen, die die Bedingung erfüllen\n",
    "\n",
    "    for i in range(n):\n",
    "        rand = random.normalvariate(1000, 150) # Erwartungswert 1000, Standardabweichung 150\n",
    "\n",
    "        if rand >= 900: # Bedingung einfügen\n",
    "            summe += rand\n",
    "            count += 1\n",
    "\n",
    "        else:\n",
    "            summe += 0\n",
    "            count += 0\n",
    "        \n",
    "    return summe / count # Durchschnitt der Simulationen, die die Bedingung erfüllen\n",
    "\n",
    "monte_carlo_simulation(1000000) # Beispiel für 1000 Simulationen\n"
   ]
  },
  {
   "cell_type": "code",
   "execution_count": null,
   "metadata": {},
   "outputs": [],
   "source": [
    "an_ver_mean = 5\n",
    "an_ver_std = 3\n",
    "def get_ufz():\n",
    "    return random.randint(1,6) + 4\n",
    "ab_ver_mean = 4\n",
    "n_rounds = 100_000\n",
    "treshhold = 14\n",
    "\n",
    "times = np.random.normal()\n",
    "\n"
   ]
  }
 ],
 "metadata": {
  "kernelspec": {
   "display_name": "Python 3",
   "language": "python",
   "name": "python3"
  },
  "language_info": {
   "codemirror_mode": {
    "name": "ipython",
    "version": 3
   },
   "file_extension": ".py",
   "mimetype": "text/x-python",
   "name": "python",
   "nbconvert_exporter": "python",
   "pygments_lexer": "ipython3",
   "version": "3.11.9"
  }
 },
 "nbformat": 4,
 "nbformat_minor": 2
}
