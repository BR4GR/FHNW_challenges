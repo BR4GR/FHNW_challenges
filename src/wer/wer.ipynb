{
 "cells": [
  {
   "cell_type": "markdown",
   "metadata": {},
   "source": [
    "Bei einem Abfahrts-Skirennen (1 Durchgang) starten 10 Fahrer f¨ur die L¨ander Schweiz (3 Fahrer), Mexiko (1 Fahrer), Deutschland, Liechtenstein und ¨Oster- reich. Die Wahrscheinlichkeit f¨ur einen Sturz und damit Ausfall liegt bei den Schweizer Fahrern bei 18%, bei dem Mexikaner bei 45% und bei den Fahrern der anderen Nationen bei 20%"
   ]
  },
  {
   "cell_type": "code",
   "execution_count": 95,
   "metadata": {},
   "outputs": [
    {
     "name": "stdout",
     "output_type": "stream",
     "text": [
      "Anzahl der verschiedenen Möglichkeiten: 3628800\n"
     ]
    }
   ],
   "source": [
    "import math\n",
    "\n",
    "# Anzahl der Fahrer\n",
    "num_fahrers = 10\n",
    "\n",
    "# Berechnung der Fakultät von 10\n",
    "num_permutations = math.factorial(num_fahrers)\n",
    "\n",
    "print(f\"Anzahl der verschiedenen Möglichkeiten: {num_permutations}\")\n"
   ]
  },
  {
   "cell_type": "code",
   "execution_count": 96,
   "metadata": {},
   "outputs": [
    {
     "name": "stdout",
     "output_type": "stream",
     "text": [
      "Erwartete Anzahl der Schweizer Fahrer im Ziel: 2.46\n"
     ]
    }
   ],
   "source": [
    "# Anzahl der Schweizer Fahrer\n",
    "num_swiss_fahrers = 3\n",
    "\n",
    "# Wahrscheinlichkeit, dass ein Schweizer Fahrer ins Ziel kommt\n",
    "prob_swiss_finish = 1 - 0.18\n",
    "\n",
    "# Erwartete Anzahl der Schweizer Fahrer im Ziel\n",
    "expected_swiss_finish = num_swiss_fahrers * prob_swiss_finish\n",
    "\n",
    "print(f\"Erwartete Anzahl der Schweizer Fahrer im Ziel: {expected_swiss_finish}\")\n"
   ]
  },
  {
   "cell_type": "code",
   "execution_count": 97,
   "metadata": {},
   "outputs": [
    {
     "name": "stdout",
     "output_type": "stream",
     "text": [
      "Wahrscheinlichkeit, dass ein Fahrer, der ins Ziel kommt, ein Schweizer ist: 0.31498079385403327\n"
     ]
    }
   ],
   "source": [
    "# Anzahl der Fahrer pro Nation\n",
    "num_mexican_fahrers = 1\n",
    "num_other_fahrers = 10 - num_swiss_fahrers - num_mexican_fahrers\n",
    "\n",
    "# Wahrscheinlichkeit, dass Fahrer ins Ziel kommen\n",
    "prob_mexican_finish = 1 - 0.45\n",
    "prob_other_finish = 1 - 0.20\n",
    "\n",
    "# Anzahl der Fahrer im Ziel\n",
    "expected_mexican_finish = num_mexican_fahrers * prob_mexican_finish\n",
    "expected_other_finish = num_other_fahrers * prob_other_finish\n",
    "\n",
    "total_finish = expected_swiss_finish + expected_mexican_finish + expected_other_finish\n",
    "\n",
    "# Wahrscheinlichkeit, dass ein Fahrer im Ziel ein Schweizer ist\n",
    "prob_swiss_given_finish = expected_swiss_finish / total_finish\n",
    "\n",
    "print(f\"Wahrscheinlichkeit, dass ein Fahrer, der ins Ziel kommt, ein Schweizer ist: {prob_swiss_given_finish}\")\n"
   ]
  },
  {
   "cell_type": "code",
   "execution_count": 98,
   "metadata": {},
   "outputs": [
    {
     "name": "stdout",
     "output_type": "stream",
     "text": [
      "Wahrscheinlichkeit, dass alle Schweizer Fahrer ins Ziel kommen: 0.5513680000000001\n",
      "Wahrscheinlichkeit, dass der Fahrer von Mexiko ins Ziel kommt: 0.55\n"
     ]
    }
   ],
   "source": [
    "# Wahrscheinlichkeit, dass alle Schweizer Fahrer ins Ziel kommen\n",
    "prob_all_swiss_finish = prob_swiss_finish ** num_swiss_fahrers\n",
    "\n",
    "# Wahrscheinlichkeit, dass der Fahrer von Mexiko ins Ziel kommt\n",
    "prob_mexican_finish = 1 - 0.45\n",
    "\n",
    "print(f\"Wahrscheinlichkeit, dass alle Schweizer Fahrer ins Ziel kommen: {prob_all_swiss_finish}\")\n",
    "print(f\"Wahrscheinlichkeit, dass der Fahrer von Mexiko ins Ziel kommt: {prob_mexican_finish}\")\n"
   ]
  },
  {
   "cell_type": "code",
   "execution_count": 99,
   "metadata": {},
   "outputs": [
    {
     "name": "stdout",
     "output_type": "stream",
     "text": [
      "Wahrscheinlichkeit, dass alle 10 Fahrer ins Ziel kommen: 0.07949579714560005\n"
     ]
    }
   ],
   "source": [
    "# Wahrscheinlichkeiten, dass jeder Fahrer ins Ziel kommt\n",
    "prob_other_finish = 1 - 0.20\n",
    "\n",
    "# Wahrscheinlichkeit, dass alle 10 Fahrer ins Ziel kommen\n",
    "prob_all_finish = (prob_swiss_finish ** num_swiss_fahrers) * (prob_mexican_finish) * (prob_other_finish ** num_other_fahrers)\n",
    "\n",
    "print(f\"Wahrscheinlichkeit, dass alle 10 Fahrer ins Ziel kommen: {prob_all_finish}\")\n"
   ]
  },
  {
   "cell_type": "markdown",
   "metadata": {},
   "source": [
    "Bei einer Pr¨ufung gibt es 6 Aufgaben mit je 5 Teilaufgaben. Jede Teilaufgabe l¨ost ein Studierender mit Wahrscheinlichkeit 80% richtig (unabh¨angig vonein- ander)."
   ]
  },
  {
   "cell_type": "code",
   "execution_count": 100,
   "metadata": {},
   "outputs": [
    {
     "name": "stdout",
     "output_type": "stream",
     "text": [
      "Wahrscheinlichkeit, bei Aufgabe 1 genau 2 Teilaufgaben richtig zu haben: 0.0512\n"
     ]
    }
   ],
   "source": [
    "import scipy.stats as stats\n",
    "\n",
    "# Gegebene Parameter\n",
    "n = 5\n",
    "k = 2\n",
    "p = 0.8\n",
    "\n",
    "# Binomialverteilung verwenden, um die Wahrscheinlichkeit zu berechnen\n",
    "prob_2_correct = stats.binom.pmf(k, n, p)\n",
    "\n",
    "print(f\"Wahrscheinlichkeit, bei Aufgabe 1 genau 2 Teilaufgaben richtig zu haben: {prob_2_correct:.4f}\")\n"
   ]
  },
  {
   "cell_type": "code",
   "execution_count": 101,
   "metadata": {},
   "outputs": [
    {
     "name": "stdout",
     "output_type": "stream",
     "text": [
      "Erwartete Anzahl richtiger Teilaufgaben bei der gesamten Prüfung: 24.0\n"
     ]
    }
   ],
   "source": [
    "# Gesamtanzahl der Teilaufgaben\n",
    "total_tasks = 6 * 5\n",
    "\n",
    "# Erwartete Anzahl richtiger Teilaufgaben\n",
    "expected_correct_total = total_tasks * p\n",
    "\n",
    "print(f\"Erwartete Anzahl richtiger Teilaufgaben bei der gesamten Prüfung: {expected_correct_total}\")\n",
    " "
   ]
  },
  {
   "cell_type": "code",
   "execution_count": 102,
   "metadata": {},
   "outputs": [
    {
     "name": "stdout",
     "output_type": "stream",
     "text": [
      "Wahrscheinlichkeit, die Prüfung zu bestehen: 0.8099\n"
     ]
    }
   ],
   "source": [
    "import scipy.stats as stats\n",
    "\n",
    "# Wahrscheinlichkeit, dass mindestens 4 von 5 Teilaufgaben richtig sind\n",
    "prob_min_4_correct = 1 - stats.binom.cdf(3, n, p)\n",
    "\n",
    "# Wahrscheinlichkeit, dass bei mindestens 4 von 6 Aufgaben mindestens 4 Teilaufgaben richtig sind\n",
    "prob_pass = sum([stats.binom.pmf(successes, 6, prob_min_4_correct) for successes in range(4, 7)])\n",
    "\n",
    "print(f\"Wahrscheinlichkeit, die Prüfung zu bestehen: {prob_pass:.4f}\")\n",
    "\n"
   ]
  },
  {
   "cell_type": "code",
   "execution_count": 103,
   "metadata": {},
   "outputs": [
    {
     "name": "stdout",
     "output_type": "stream",
     "text": [
      "Wahrscheinlichkeit, bei allen 6 Aufgaben exakt die gleiche Anzahl Teilaufgaben richtig zu haben: 0.0060\n"
     ]
    }
   ],
   "source": [
    "# Wahrscheinlichkeiten für verschiedene Anzahlen richtiger Teilaufgaben\n",
    "prob_exact = [stats.binom.pmf(k, n, p) for k in range(6)]\n",
    "\n",
    "# Wahrscheinlichkeit, dass bei allen 6 Aufgaben die gleiche Anzahl Teilaufgaben richtig ist\n",
    "prob_same_correct = sum([prob ** 6 for prob in prob_exact])\n",
    "\n",
    "print(f\"Wahrscheinlichkeit, bei allen 6 Aufgaben exakt die gleiche Anzahl Teilaufgaben richtig zu haben: {prob_same_correct:.4f}\")\n"
   ]
  },
  {
   "cell_type": "markdown",
   "metadata": {},
   "source": [
    "Uber die gesamte Dauer einer Pandemie wird nach Einsch¨atzung des BAG bei 2% der Bev¨olkerung eine station¨are Behandlung im Spital notwendig sein. Das Kantonsspital Baden (KSB) ist f¨ur 400′000 Einwohner das verantwortliche Spital. Mit welcher Wahrscheinlichkeit . . ."
   ]
  },
  {
   "cell_type": "code",
   "execution_count": 113,
   "metadata": {},
   "outputs": [
    {
     "name": "stdout",
     "output_type": "stream",
     "text": [
      "Wahrscheinlichkeit, dass im KSB maximal 7'800 Patienten stationär behandelt werden: 0.0119\n",
      "0.3891031720891269\n"
     ]
    }
   ],
   "source": [
    "# werden im KSB maximal 7′800 Patienten station¨are behandelt?\n",
    "\n",
    "import scipy.stats as stats\n",
    "import math\n",
    "\n",
    "# Gegebene Parameter\n",
    "n = 400_000\n",
    "p = 0.02\n",
    "\n",
    "# Erwartungswert und Standardabweichung\n",
    "mu = n * p\n",
    "sigma = math.sqrt(n * p * (1 - p))\n",
    "\n",
    "# Maximal 7'800 Patienten\n",
    "max_patients = 7800\n",
    "\n",
    "# Berechnung der Wahrscheinlichkeit\n",
    "prob_max_7800 = stats.norm.cdf(max_patients, mu, sigma)\n",
    "\n",
    "print(f\"Wahrscheinlichkeit, dass im KSB maximal 7'800 Patienten stationär behandelt werden: {prob_max_7800:.4f}\")\n",
    "\n",
    "print(stats.norm.cdf(71.2, 70, 10) - stats.norm.cdf(60, 70, 10))\n"
   ]
  },
  {
   "cell_type": "code",
   "execution_count": 105,
   "metadata": {},
   "outputs": [
    {
     "name": "stdout",
     "output_type": "stream",
     "text": [
      "Wahrscheinlichkeit, dass im KSB mindestens 8'100 Patienten stationär behandelt werden: 0.1294\n"
     ]
    }
   ],
   "source": [
    "# erden im KSB mindestens 8′100 Patienten station¨are behandelt?\n",
    "\n",
    "# Mindestens 8'100 Patienten\n",
    "min_patients = 8100\n",
    "\n",
    "# Berechnung der Wahrscheinlichkeit\n",
    "prob_min_8100 = 1 - stats.norm.cdf(min_patients, mu, sigma)\n",
    "\n",
    "print(f\"Wahrscheinlichkeit, dass im KSB mindestens 8'100 Patienten stationär behandelt werden: {prob_min_8100:.4f}\")\n"
   ]
  },
  {
   "cell_type": "code",
   "execution_count": 106,
   "metadata": {},
   "outputs": [
    {
     "name": "stdout",
     "output_type": "stream",
     "text": [
      "Wahrscheinlichkeit, dass die Zahl der Patienten um nicht mehr als eine Standardabweichung vom Erwartungswert abweicht: 0.6827\n"
     ]
    }
   ],
   "source": [
    "# weicht die Zahl der Patienten um nicht mehr als eine Standardabweichung vom Erwartungswert ab? \n",
    "\n",
    "# Intervallgrenzen\n",
    "lower_bound = mu - sigma\n",
    "upper_bound = mu + sigma\n",
    "\n",
    "# Berechnung der Wahrscheinlichkeit\n",
    "prob_within_one_sd = stats.norm.cdf(upper_bound, mu, sigma) - stats.norm.cdf(lower_bound, mu, sigma)\n",
    "\n",
    "print(f\"Wahrscheinlichkeit, dass die Zahl der Patienten um nicht mehr als eine Standardabweichung vom Erwartungswert abweicht: {prob_within_one_sd:.4f}\")\n"
   ]
  },
  {
   "cell_type": "markdown",
   "metadata": {},
   "source": [
    "Bei einer Schweizer Grossbank werden mehr als 1′000′000 Konten von Privat- personen gef¨uhrt. Im Jahr 2010 ergab eine Untersuchung aller Konten, dass die Sparleistung pro Konto im Mittel 800 SFr. betrug. Die Sparleistung (frz. augmentation de montant) ist in guter N¨aherung normalverteilt. Mit einer Stichprobe von 1′600 Konten soll 2011 gepr¨uft werden, ob sich die mittlere Sparleistung vergr¨ossert hat. Diese Stichprobe ergab einen Wert von 840 SFr. und eine Standardabweichung von 400 SFr."
   ]
  },
  {
   "cell_type": "markdown",
   "metadata": {},
   "source": [
    "(a) Benennen Sie einen Test, der die Fragestellung klären kann.\n",
    "\n",
    "Ein geeigneter Test für diese Fragestellung ist der Ein-Stichproben-t-Test (One-Sample t-Test), da wir den Mittelwert einer Stichprobe mit einem bekannten Populationsmittelwert vergleichen möchten."
   ]
  },
  {
   "cell_type": "markdown",
   "metadata": {},
   "source": [
    "(b) Wie lautet die Nullhypothese H0 dieses Tests? (beachten Sie: ein- oder zweiseitige Fragestellung?)"
   ]
  },
  {
   "cell_type": "markdown",
   "metadata": {},
   "source": [
    "(b) Nullhypothese H0H0​\n",
    "\n",
    "Die Nullhypothese H0H0​ und die Alternativhypothese H1H1​ sind:\n",
    "\n",
    "    Nullhypothese H0H0​: Die mittlere Sparleistung hat sich nicht vergrößert. Das bedeutet, dass die mittlere Sparleistung 2011 gleich oder kleiner ist als die mittlere Sparleistung 2010.\n",
    "    H0:μ≤800 SFr.\n",
    "    H0​:μ≤800SFr.\n",
    "\n",
    "    Alternativhypothese H1H1​: Die mittlere Sparleistung hat sich vergrößert. Das bedeutet, dass die mittlere Sparleistung 2011 größer ist als die mittlere Sparleistung 2010.\n",
    "    H1:μ>800 SFr.\n",
    "    H1​:μ>800SFr.\n",
    "\n",
    "Dies ist ein einseitiger Test, da wir nur testen, ob die Sparleistung sich vergrößert hat."
   ]
  },
  {
   "cell_type": "markdown",
   "metadata": {},
   "source": [
    "(c) Berechnen Sie die Pr¨ufgr¨osse dieses Tests"
   ]
  },
  {
   "cell_type": "code",
   "execution_count": 107,
   "metadata": {},
   "outputs": [
    {
     "name": "stdout",
     "output_type": "stream",
     "text": [
      "Prüfgröße (t): 4.0000\n"
     ]
    }
   ],
   "source": [
    "import math\n",
    "\n",
    "# Gegebene Werte\n",
    "x_bar = 840  # Stichprobenmittelwert\n",
    "mu_0 = 800   # Populationsmittelwert\n",
    "s = 400      # Stichprobenstandardabweichung\n",
    "n = 1600     # Stichprobengröße\n",
    "\n",
    "# Berechnung der Prüfgröße\n",
    "t = (x_bar - mu_0) / (s / math.sqrt(n))\n",
    "\n",
    "print(f\"Prüfgröße (t): {t:.4f}\")\n"
   ]
  },
  {
   "cell_type": "markdown",
   "metadata": {},
   "source": [
    "(d) Bestimmen Sie f¨ur diesen Test den Annahmebereich zu einem Signifikanz- niveau von 99%. \n",
    "\n",
    "(c) Berechnung der Prüfgröße\n",
    "\n",
    "Die Prüfgröße für den Ein-Stichproben-t-Test wird wie folgt berechnet:\n",
    "t=xˉ−μ0s/n\n",
    "t=s/n\n",
    "​xˉ−μ0​​\n",
    "\n",
    "wobei:\n",
    "\n",
    "    xˉ=840 SFr.xˉ=840SFr. (Stichprobenmittelwert)\n",
    "    μ0=800 SFr.μ0​=800SFr. (Populationsmittelwert)\n",
    "    s=400 SFr.s=400SFr. (Stichprobenstandardabweichung)\n",
    "    n=1600n=1600 (Stichprobengröße)\n",
    "\n",
    "Hier ist der Python-Code, um die Prüfgröße zu berechnen:"
   ]
  },
  {
   "cell_type": "code",
   "execution_count": 108,
   "metadata": {},
   "outputs": [
    {
     "name": "stdout",
     "output_type": "stream",
     "text": [
      "Kritischer t-Wert: 2.3287\n"
     ]
    }
   ],
   "source": [
    "import scipy.stats as stats\n",
    "\n",
    "alpha = 0.01\n",
    "df = n - 1\n",
    "\n",
    "# Kritischer t-Wert für einseitigen Test\n",
    "t_critical = stats.t.ppf(1 - alpha, df)\n",
    "\n",
    "print(f\"Kritischer t-Wert: {t_critical:.4f}\")\n"
   ]
  },
  {
   "cell_type": "markdown",
   "metadata": {},
   "source": [
    "(e) Begr¨unden Sie, ob sich die Sparleistung vergr¨ossert hat."
   ]
  },
  {
   "cell_type": "code",
   "execution_count": 109,
   "metadata": {},
   "outputs": [
    {
     "name": "stdout",
     "output_type": "stream",
     "text": [
      "Die Sparleistung hat sich signifikant vergrößert.\n"
     ]
    }
   ],
   "source": [
    "# Entscheidung treffen\n",
    "if t > t_critical:\n",
    "    print(\"Die Sparleistung hat sich signifikant vergrößert.\")\n",
    "else:\n",
    "    print(\"Es gibt keinen signifikanten Beweis dafür, dass sich die Sparleistung vergrößert hat.\")\n"
   ]
  },
  {
   "cell_type": "markdown",
   "metadata": {},
   "source": [
    "----------------"
   ]
  },
  {
   "cell_type": "markdown",
   "metadata": {},
   "source": [
    "# durchschnitt der einträge unter einem bestimmten threshold schwellenwert"
   ]
  },
  {
   "cell_type": "markdown",
   "metadata": {},
   "source": [
    "# neuer durchschnit nach entfernung der einheiten unter dem threshold"
   ]
  },
  {
   "cell_type": "code",
   "execution_count": 110,
   "metadata": {},
   "outputs": [
    {
     "name": "stdout",
     "output_type": "stream",
     "text": [
      "Prozent unter threshold: 0.25222\n",
      "average after removing samples under threshold 1063.82.\n"
     ]
    }
   ],
   "source": [
    "import numpy as np\n",
    "\n",
    "mean = 1000  # CHF\n",
    "std_dev = 150  # CHF\n",
    "threshold = 900  # CHF\n",
    "\n",
    "num_samples = 1_000_000\n",
    "\n",
    "# Generieren von zufälligen Umsätzen\n",
    "annual_revenues = np.random.normal(mean, std_dev, num_samples)\n",
    "\n",
    "# Filtern der Umsätze, die >= 900 CHF sind\n",
    "filtered_revenues = annual_revenues[annual_revenues >= threshold]\n",
    "print(f\"Prozent unter threshold: {1 - len(filtered_revenues) / num_samples}\")\n",
    "\n",
    "# Berechnung des durchschnittlichen Umsatzes der verbleibenden Kunden\n",
    "average_revenue_after_split = np.mean(filtered_revenues)\n",
    "\n",
    "print(f\"average after removing samples under threshold {average_revenue_after_split:.2f}.\")\n"
   ]
  },
  {
   "cell_type": "code",
   "execution_count": 179,
   "metadata": {},
   "outputs": [
    {
     "data": {
      "text/plain": [
       "0.89389"
      ]
     },
     "execution_count": 179,
     "metadata": {},
     "output_type": "execute_result"
    }
   ],
   "source": [
    "import numpy as np\n",
    "import random\n",
    "\n",
    "an_ver_mean = 5\n",
    "an_ver_std = 3\n",
    "def get_ufz():\n",
    "    return random.randint(1,6) + 4\n",
    "ab_ver_mean = 4\n",
    "n_rounds = 100_000\n",
    "treshhold = 14\n",
    "\n",
    "times_taken = np.random.normal(an_ver_mean, an_ver_std, n_rounds)\n",
    "times_taken += get_ufz()\n",
    "\n",
    "times_got = np.random.default_rng().exponential(scale=9, size=n_rounds) + 14\n",
    "\n",
    "success =  (times_got - 15) >= 0\n",
    "S = sum(success)\n",
    "\n",
    "S/ n_rounds"
   ]
  }
 ],
 "metadata": {
  "kernelspec": {
   "display_name": "Python 3",
   "language": "python",
   "name": "python3"
  },
  "language_info": {
   "codemirror_mode": {
    "name": "ipython",
    "version": 3
   },
   "file_extension": ".py",
   "mimetype": "text/x-python",
   "name": "python",
   "nbconvert_exporter": "python",
   "pygments_lexer": "ipython3",
   "version": "3.11.9"
  }
 },
 "nbformat": 4,
 "nbformat_minor": 2
}
