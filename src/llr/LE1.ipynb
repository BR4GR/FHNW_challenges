{
 "cells": [
  {
   "cell_type": "markdown",
   "source": [
    "## 2\n",
    "\n",
    "Die folgenden Werte seien gegeben: \n",
    "x -2, -1, 3, 4, 6 \n",
    "y 0, 0.5, 2, 2, 5 \n",
    "(a) Stellen Sie das lineare Gleichungssystem Ax = b auf und geben Sie die einzelnen Vektoren und Matrizen an. \n",
    "(b) Berechnen Sie die Regressionsgerade. \n",
    "(c) Erstellen Sie einen Plot und zeichnen Sie sowohl die Daten, wie die Regressionsgerade und die Residuen ein."
   ],
   "metadata": {
    "collapsed": false
   },
   "id": "61db855a2ec1b4f9"
  },
  {
   "cell_type": "code",
   "execution_count": 1,
   "id": "initial_id",
   "metadata": {
    "collapsed": true,
    "ExecuteTime": {
     "end_time": "2024-03-22T11:41:50.771889800Z",
     "start_time": "2024-03-22T11:41:05.614434200Z"
    }
   },
   "source": [
    "import numpy as np\n",
    "import matplotlib.pyplot as plt\n",
    "\n",
    "x = np.array([-2, -1, 3, 4, 6], float)\n",
    "y = np.array([0, 0.5, 2, 2, 5])\n",
    "print(f'y:\\n{y}')\n",
    "A = np.vstack([x, np.ones(len(x))]).T\n",
    "print(f'A:\\n{A}')\n",
    "print(f'A.T @ A:\\n{A.T @ A}')\n",
    "\n",
    "beta = np.linalg.inv(A.T @ A) @ A.T @ y\n",
    "print(f'beta:\\n{beta}')\n",
    "\n",
    "y_pred = A @ beta\n",
    "print(f'y predictions:\\n{y_pred}')\n",
    "\n",
    "residuen = y - y_pred\n",
    "print(f'residuen:\\n{residuen}')\n",
    "\n",
    "\n",
    "plt.plot(x, y_pred, color='red', label='Regressionsgerade')\n",
    "plt.scatter(x, y, color='blue', label='Daten')\n",
    "# Horizontale Linie bei y=0\n",
    "plt.axhline(0, color='black', linewidth=2)\n",
    "# Vertikale Linie bei x=0\n",
    "plt.axvline(0, color='black', linewidth=2)\n",
    "# Residuen als Linien plotten\n",
    "for xi, yi, yp in zip(x, y, y_pred):\n",
    "    plt.plot([xi, xi], [yi, yp], color='green', linestyle='--')\n",
    "\n",
    "# Achsenbeschriftungen und Legende hinzufügen\n",
    "plt.xlabel('x')\n",
    "plt.ylabel('y')\n",
    "plt.title('Lineare Regression und Residuen')\n",
    "plt.legend()\n",
    "plt.grid(True)\n",
    "\n",
    "plt.show()\n",
    "\n"
   ],
   "outputs": []
  },
  {
   "cell_type": "markdown",
   "source": [
    "## 3\n",
    "Als Data Scientist haben Sie den Auftrag, in einer Firma herauszufinden, welche Mitarbeiter öfters abwesend sind, wovon dies abhängt und wie man Absenzen voraussagen kann. Dazu erhalten Sie den Datensatz employees.csv (Qulle: fiktiver Datensatz von kaggle.com), den Sie vorzugsweise mittels Python analysieren."
   ],
   "metadata": {
    "collapsed": false
   },
   "id": "baa4260896d5a3a1"
  },
  {
   "cell_type": "markdown",
   "source": [
    " \n",
    "(a) Daten sind oft nicht bereinigt. Die Firma sagt Ihnen, dass der Praktikant beim Erheben des Datensatzes bestimmt ein paar Tippfehler gemacht hat. Ihnen wird auch gesagt, dass jeder Mitarbeiter mindestens einmal gefehlt hat. Bereinigen Sie den Datensatz."
   ],
   "metadata": {
    "collapsed": false
   },
   "id": "c7d57ad8ea38f115"
  },
  {
   "cell_type": "code",
   "source": [
    "import pandas as pd\n",
    "employees = pd.read_csv('data/employees.csv')\n",
    "employees = employees.loc[employees['AbsentHours'] > 0]\n",
    "\n"
   ],
   "metadata": {
    "collapsed": false,
    "ExecuteTime": {
     "end_time": "2024-03-22T11:41:59.401676Z",
     "start_time": "2024-03-22T11:41:50.774518500Z"
    }
   },
   "id": "e18a027ed9a59521",
   "execution_count": 2,
   "outputs": []
  },
  {
   "cell_type": "markdown",
   "source": [
    " \n",
    "(b) Wovon hängen die Absenzen eher ab, von der Anzahl Jahren im Betrieb oder dem Alter der Mitarbeiter? Führen Sie jeweils eine Regression durch."
   ],
   "metadata": {
    "collapsed": false
   },
   "id": "407091ac7a5992f2"
  },
  {
   "cell_type": "code",
   "source": [
    "from sklearn.linear_model import LinearRegression\n",
    "\n",
    "X_years = employees['LengthService'].values.reshape(-1,1)\n",
    "X_age = employees['Age'].values.reshape(-1,1)\n",
    "absent_hours = employees['AbsentHours'].values\n",
    "\n",
    "years_model = LinearRegression().fit(X_years, absent_hours)\n",
    "age_model = LinearRegression().fit(X_age, absent_hours)\n",
    "\n",
    "employees.plot.scatter(x='LengthService', y=\"AbsentHours\")\n",
    "plt.plot([0,40], years_model.predict(np.array([[0], [40]])), color='r')\n",
    "plt.show()\n",
    "\n",
    "employees.plot.scatter(x='Age', y=\"AbsentHours\")\n",
    "plt.plot([20, 80], age_model.predict(np.array([[20], [80]])), color='r')\n",
    "plt.show()\n"
   ],
   "metadata": {
    "collapsed": false,
    "ExecuteTime": {
     "end_time": "2024-03-22T11:42:08.131594200Z",
     "start_time": "2024-03-22T11:41:59.406528900Z"
    }
   },
   "id": "42d05a38532936f6",
   "execution_count": 3,
   "outputs": []
  },
  {
   "cell_type": "markdown",
   "source": [],
   "metadata": {
    "collapsed": false
   },
   "id": "526be38afef380e0"
  },
  {
   "cell_type": "markdown",
   "source": [
    "(c) Plotten Sie die Residuen mittels Tukey-Anscombe Digrammen. Wie erklären Sie die scharfe Kante im Residuenplot des Alters? "
   ],
   "metadata": {
    "collapsed": false
   },
   "id": "54928c2c5e53525"
  },
  {
   "cell_type": "code",
   "source": [
    "age_residuals = absent_hours - age_model.predict(X_age)\n",
    "time_residuals = absent_hours - years_model.predict(X_years)\n",
    "\n",
    "# Erstellung der Subplots\n",
    "fig, (ax1, ax2) = plt.subplots(1, 2, figsize=(15, 6)) # 1 Zeile, 2 Spalten\n",
    "\n",
    "# Erster Plot für das Alter\n",
    "ax1.scatter(X_age, age_residuals)\n",
    "ax1.axhline(0, color='r', linewidth=2)\n",
    "ax1.set_xlabel('Alter der Mitarbeiter')\n",
    "ax1.set_ylabel('Residuen der AbsentHours')\n",
    "ax1.set_title('Tukey-Anscombe Diagramm für das Alter')\n",
    "\n",
    "# Zweiter Plot für die Anzahl Jahre im Betrieb\n",
    "ax2.scatter(X_years, time_residuals)\n",
    "ax2.axhline(0, color='r', linewidth=2)\n",
    "ax2.set_xlabel('Anzahl Jahren im Betrieb')\n",
    "ax2.set_ylabel('Residuen der AbsentHours')\n",
    "ax2.set_title('Tukey-Anscombe Diagramm für die Anzahl Jahren im Betrieb')\n",
    "\n",
    "# Anzeigen der Plots\n",
    "plt.tight_layout()\n",
    "plt.show()\n",
    "\n"
   ],
   "metadata": {
    "collapsed": false,
    "ExecuteTime": {
     "end_time": "2024-03-22T11:42:16.851427Z",
     "start_time": "2024-03-22T11:42:08.127915800Z"
    }
   },
   "id": "c16de059f7d3ed86",
   "execution_count": 4,
   "outputs": []
  },
  {
   "cell_type": "markdown",
   "source": [
    "(d) Prüfen Sie, ob die Bedingungen der Residuenanalyse erfüllt sind. "
   ],
   "metadata": {
    "collapsed": false
   },
   "id": "e66707a357858e4d"
  },
  {
   "cell_type": "code",
   "source": [
    "from scipy.stats import norm\n",
    "\n",
    "fig, (ax1, ax2) = plt.subplots(1, 2, figsize=(15, 6)) # 1 Zeile, 2 Spalten\n",
    "\n",
    "\n",
    "n, bins, patches = ax1.hist(age_residuals, bins=150, facecolor='blue',stacked=True,density=True)\n",
    "ax1.set_xlabel('Residuen')\n",
    "ax1.set_ylabel('Haeufigkeit')\n",
    "ax1.set_title('Sind die Alter Residuen Normalverteilt?')\n",
    "mu = np.average(age_residuals)\n",
    "sigma = np.std(age_residuals)\n",
    "#normalverteilung mit diesem Mittelwert und Standardabweichung\n",
    "y = norm.pdf(bins, mu, sigma)\n",
    "ax1.plot(bins, y, 'r--')\n",
    "\n",
    "n2, bins, patches2 = ax2.hist(time_residuals, bins=150, facecolor='blue',stacked=True,density=True)\n",
    "ax2.set_xlabel('Residuen')\n",
    "ax2.set_ylabel('Haeufigkeit')\n",
    "ax2.set_title('Sind die Residuen der Anzahl Jahre Normalverteilt?')\n",
    "mu = np.average(time_residuals)\n",
    "sigma = np.std(time_residuals)\n",
    "#normalverteilung mit diesem Mittelwert und Standardabweichung\n",
    "y = norm.pdf(bins, mu, sigma)\n",
    "ax2.plot(bins, y, 'r--')\n",
    "# Anzeigen der Plots\n",
    "plt.tight_layout()\n",
    "plt.show()"
   ],
   "metadata": {
    "collapsed": false,
    "ExecuteTime": {
     "end_time": "2024-03-22T11:42:25.522550600Z",
     "start_time": "2024-03-22T11:42:16.873906400Z"
    }
   },
   "id": "314304b88d72ef7a",
   "execution_count": 5,
   "outputs": []
  },
  {
   "cell_type": "markdown",
   "source": [
    "(e) Berechnen und interpretieren Sie die R2 Werte für die beiden Fits. "
   ],
   "metadata": {
    "collapsed": false
   },
   "id": "8b543e765abfa84b"
  },
  {
   "cell_type": "code",
   "source": [
    "# Berechnung der Bestimmtheitsmaße (R^2) für beide Regressionen\n",
    "r_squared_years = years_model.score(X_years, absent_hours)\n",
    "r_squared_age = age_model.score(X_age, absent_hours)\n",
    "\n",
    "\n",
    "print(f'R^2 Jahre im Betrieb: {r_squared_years}')\n",
    "print(f'R^2 Alter: {r_squared_age}')"
   ],
   "metadata": {
    "collapsed": false,
    "ExecuteTime": {
     "end_time": "2024-03-22T11:43:26.309927600Z",
     "start_time": "2024-03-22T11:42:25.517252300Z"
    }
   },
   "id": "3ab20e38cfc37645",
   "execution_count": 6,
   "outputs": []
  },
  {
   "cell_type": "markdown",
   "source": [
    "(f) Was würden Sie der Firma raten?"
   ],
   "metadata": {
    "collapsed": false
   },
   "id": "ad2fc2d9e0f4ea3c"
  },
  {
   "cell_type": "code",
   "source": [],
   "metadata": {
    "collapsed": false
   },
   "id": "f271491d801631b4",
   "execution_count": null,
   "outputs": []
  },
  {
   "cell_type": "markdown",
   "source": [
    "## 4"
   ],
   "metadata": {
    "collapsed": false
   },
   "id": "74079ee1646a7e91"
  },
  {
   "cell_type": "markdown",
   "source": [
    "Eine grosse Befragung der Bevölkerung wurde durchgeführt und ihre Resultate sind in der Datei Umfragedaten_v1_an.csv \n",
    "(Quelle: allgemeine Bevölkerungsumfrage der Sozialwissenschaften 2014 (ALLBUS 2014)). \n",
    "Als Data Scientist sollen Sie klären, ob das Rauchverhalten der Bevölkerung vom Einkommen abhängt"
   ],
   "metadata": {
    "collapsed": false
   },
   "id": "8908d803f32a7132"
  },
  {
   "cell_type": "markdown",
   "source": [
    "(a) Berechnen Sie ein logistisches Model"
   ],
   "metadata": {
    "collapsed": false
   },
   "id": "4060fcb6cbebc8f3"
  },
  {
   "cell_type": "code",
   "source": [
    "from sklearn.linear_model import LogisticRegression\n",
    "\n",
    "umf = pd.read_csv('data/Umfragedaten_v1_an.csv')\n",
    "umf = umf.dropna(subset=['NETTO', 'RAUCH'])\n",
    "# X = umf['RAUCH']\n",
    "# y = umf['NETTO']\n",
    "# model = LogisticRegression.fit()\n",
    "umf.head()"
   ],
   "metadata": {
    "collapsed": false,
    "ExecuteTime": {
     "end_time": "2024-03-22T12:24:43.724610500Z",
     "start_time": "2024-03-22T12:24:33.444184500Z"
    }
   },
   "id": "847e5bb20f356006",
   "execution_count": 10,
   "outputs": []
  }
 ],
 "metadata": {
  "kernelspec": {
   "display_name": "Python 3",
   "language": "python",
   "name": "python3"
  },
  "language_info": {
   "codemirror_mode": {
    "name": "ipython",
    "version": 2
   },
   "file_extension": ".py",
   "mimetype": "text/x-python",
   "name": "python",
   "nbconvert_exporter": "python",
   "pygments_lexer": "ipython2",
   "version": "2.7.6"
  }
 },
 "nbformat": 4,
 "nbformat_minor": 5
}
