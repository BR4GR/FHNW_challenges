{
 "cells": [
  {
   "cell_type": "markdown",
   "metadata": {},
   "source": [
    "logistische Regression"
   ]
  },
  {
   "cell_type": "code",
   "execution_count": 1,
   "metadata": {
    "ExecuteTime": {
     "end_time": "2024-03-22T12:26:14.512763800Z",
     "start_time": "2024-03-22T12:26:05.431408700Z"
    }
   },
   "source": [
    "# Load the Pandas libraries, matplotlib and numpy\n",
    "import pandas as pd \n",
    "import matplotlib.pyplot as plt\n",
    "import numpy as np\n",
    "\n",
    "# Read data \n",
    "data = pd.read_csv(\"data/Umfragedaten_v1_an.csv\") \n",
    "\n",
    "# Preview the first 5 lines of the loaded data \n",
    "data.head()"
   ],
   "outputs": []
  },
  {
   "cell_type": "code",
   "execution_count": null,
   "metadata": {
    "ExecuteTime": {
     "end_time": "2024-03-22T12:26:14.521309100Z",
     "start_time": "2024-03-22T12:26:14.516818200Z"
    }
   },
   "source": [
    "#load libraries for regression\n",
    "from sklearn.linear_model import LogisticRegression\n",
    "from sklearn import metrics\n",
    "import seaborn as sn\n"
   ],
   "outputs": []
  },
  {
   "cell_type": "markdown",
   "metadata": {
    "collapsed": true
   },
   "source": [
    "Data often have NaN or other bad values, which means data need to be cleaned first."
   ]
  },
  {
   "cell_type": "code",
   "execution_count": null,
   "metadata": {
    "ExecuteTime": {
     "start_time": "2024-03-22T12:26:14.518364Z"
    }
   },
   "source": [
    "#need to dummy code variables first\n",
    "x  = data['NETTO'].values.reshape(-1,1)\n",
    "dummies = pd.get_dummies(data, columns=['RAUCH'])\n",
    "y = dummies['RAUCH_JA'].values.reshape(-1,1)\n",
    "dummies.head()"
   ],
   "outputs": []
  },
  {
   "cell_type": "code",
   "execution_count": null,
   "metadata": {
    "ExecuteTime": {
     "start_time": "2024-03-22T12:26:14.519364300Z"
    }
   },
   "source": [
    "#not sure why pandas creates 2D arrays, but need 1D otherwise logistic regression would crash\n",
    "x=x[:,0]\n",
    "y=y[:,0]\n",
    "\n",
    "#need to clean data, there seem to be some NaN in x\n",
    "print(np.any(np.isnan(x)))\n",
    "print(np.any(np.isnan(y)))\n"
   ],
   "outputs": []
  },
  {
   "cell_type": "code",
   "execution_count": null,
   "metadata": {
    "ExecuteTime": {
     "start_time": "2024-03-22T12:26:14.520787800Z"
    }
   },
   "source": [
    "#print(np.where(np.isnan(x) == True))\n",
    "print(x.ndim)\n",
    "print(len(x))\n",
    "index = np.where(~np.isnan(x))  #index of good data entries\n",
    "#print(len(index))\n",
    "\n",
    "xnew = x[index]  #only keep good entries\n",
    "ynew = y[index]\n",
    "print(xnew)"
   ],
   "outputs": []
  },
  {
   "cell_type": "code",
   "execution_count": null,
   "metadata": {
    "ExecuteTime": {
     "end_time": "2024-03-22T12:26:14.532824200Z",
     "start_time": "2024-03-22T12:26:14.521956Z"
    }
   },
   "source": [
    "#show a scatter plot\n",
    "plt.plot(xnew,ynew,'o')\n",
    "plt.xlabel('Einkommen')\n",
    "plt.ylabel('Raucher (1=ja)')\n",
    "plt.show()\n",
    "\n",
    "#1=raucher, 0=nichtraucher"
   ],
   "outputs": []
  },
  {
   "cell_type": "markdown",
   "metadata": {},
   "source": [
    "Now we train the model by splitting it into a training set and then the test set is used to validate it."
   ]
  },
  {
   "cell_type": "code",
   "execution_count": null,
   "metadata": {
    "ExecuteTime": {
     "start_time": "2024-03-22T12:26:14.523456500Z"
    }
   },
   "source": [
    "#train the model\n",
    "\n",
    "from sklearn.model_selection import train_test_split\n",
    "X_train,X_test,y_train,y_test = train_test_split(xnew.reshape(-1,1),ynew,test_size=0.05,random_state=0)\n"
   ],
   "outputs": []
  },
  {
   "cell_type": "code",
   "execution_count": null,
   "metadata": {
    "ExecuteTime": {
     "start_time": "2024-03-22T12:26:14.525032200Z"
    }
   },
   "source": [
    "# logistic regression\n",
    "logreg = LogisticRegression(penalty=None)\n",
    "#penalty=none heisst keine Regularisierung. Als Default benuetzt Python Regularisierung. \n",
    "#Was genau Regularisierung ist, wird man in mlr lernen.\n",
    "\n",
    "# fit the model with data\n",
    "logreg.fit(X_train,y_train)\n",
    "\n",
    "#\n",
    "y_pred=logreg.predict(X_test)\n",
    "y_pred2 = logreg.predict_proba(X_test)[:,1]\n",
    "\n",
    "print(logreg.coef_, logreg.intercept_)\n",
    "\n"
   ],
   "outputs": []
  },
  {
   "cell_type": "code",
   "execution_count": null,
   "metadata": {
    "ExecuteTime": {
     "start_time": "2024-03-22T12:26:14.526568600Z"
    }
   },
   "source": [
    "#confusion matrix\n",
    "from sklearn import metrics\n",
    "cnf_matrix = metrics.confusion_matrix(y_test, y_pred)\n",
    "cnf_matrix\n",
    "\n",
    "#the matrix shows that 37 data points were predicted wrongly, so this fit was not good.\n"
   ],
   "outputs": []
  },
  {
   "cell_type": "code",
   "execution_count": null,
   "metadata": {
    "ExecuteTime": {
     "start_time": "2024-03-22T12:26:14.529392Z"
    }
   },
   "source": [
    "#to be sure which value are which\n",
    "tn, fp, fn, tp = cnf_matrix.ravel()\n",
    "print(tn,fp,fn,tp)\n",
    "#so we have no true positives, but only true nagatives and false negatives."
   ],
   "outputs": []
  },
  {
   "cell_type": "code",
   "execution_count": null,
   "metadata": {
    "ExecuteTime": {
     "start_time": "2024-03-22T12:26:14.531258200Z"
    }
   },
   "source": [
    "#plotting\n",
    "#show a scatter plot\n",
    "plt.plot(xnew,ynew,'o')\n",
    "plt.plot(X_test,y_pred2)\n",
    "plt.xlabel('Einkommen')\n",
    "plt.ylabel('Raucher (1=ja)')\n",
    "plt.show()\n",
    "\n",
    "#this also shows a bad fit."
   ],
   "outputs": []
  },
  {
   "cell_type": "code",
   "execution_count": null,
   "metadata": {
    "ExecuteTime": {
     "end_time": "2024-03-22T12:26:14.537415400Z",
     "start_time": "2024-03-22T12:26:14.534915500Z"
    }
   },
   "source": [
    "#let's try changing the model by taking the (natural) log of the income\n",
    "plt.plot(np.log(xnew),ynew,'o')\n",
    "plt.xlabel('log(Einkommen)')\n",
    "plt.ylabel('Raucher (1=ja)')\n",
    "plt.show()\n",
    "#one can see that there is actually not a very clear separation between non-smokers (0) and smokers (1). \n",
    "#We fit it anyway."
   ],
   "outputs": []
  },
  {
   "cell_type": "code",
   "execution_count": null,
   "metadata": {
    "ExecuteTime": {
     "start_time": "2024-03-22T12:26:14.536415300Z"
    }
   },
   "source": [
    "xnew2 = np.log(xnew)\n",
    "X_train,X_test,y_train,y_test = train_test_split(xnew2.reshape(-1,1),ynew,test_size=0.25, random_state=0)\n",
    "\n",
    "# logistic regression \n",
    "logreg = LogisticRegression(penalty=None)\n",
    "\n",
    "# fit the model with data\n",
    "logreg.fit(X_train,y_train)\n",
    "\n",
    "#\n",
    "y_pred=logreg.predict(X_test)\n",
    "y_pred2 = logreg.predict_proba(X_test)[:,1]\n",
    "\n",
    "print(logreg.coef_, logreg.intercept_)\n",
    "\n"
   ],
   "outputs": []
  },
  {
   "cell_type": "code",
   "execution_count": null,
   "metadata": {
    "ExecuteTime": {
     "end_time": "2024-03-22T12:26:14.567203800Z",
     "start_time": "2024-03-22T12:26:14.537916200Z"
    }
   },
   "source": [
    "#create the model manually to verify the prediction of python works (yes, it's the same)\n",
    "pi = np.exp(-2.24+.19*xnew2) / (1+np.exp(-2.24+.19*xnew2))\n",
    "\n",
    "#plotting\n",
    "#show a scatter plot\n",
    "plt.plot(xnew2,ynew,'o')\n",
    "plt.plot(X_test,y_pred2)\n",
    "plt.plot(xnew2,pi,color='b')\n",
    "plt.xlabel('log(Einkommen)')\n",
    "plt.ylabel('Raucher (1=ja)')\n",
    "plt.show()\n"
   ],
   "outputs": []
  },
  {
   "cell_type": "code",
   "execution_count": null,
   "metadata": {
    "ExecuteTime": {
     "start_time": "2024-03-22T12:26:14.539437500Z"
    }
   },
   "source": [
    "#plot a larger x-axis to see the full model\n",
    "xlarge = np.linspace(-15,45,60).reshape((-1,1))\n",
    "ylarge = logreg.predict_proba(xlarge)[:,1]\n",
    "\n",
    "plt.plot(xnew2,ynew,'o')\n",
    "plt.plot(xlarge,ylarge,color='b')\n",
    "plt.xlabel('log(Einkommen)')\n",
    "plt.ylabel('Raucher (1=ja)')\n",
    "plt.show()\n",
    "\n",
    "#yes, the model is a logit model, but the data are not clearly separated, which means it doesn't fit too well.\n",
    "# We also see that the model would always predict a nonsmoker within our data range."
   ],
   "outputs": []
  },
  {
   "cell_type": "code",
   "execution_count": null,
   "metadata": {
    "ExecuteTime": {
     "start_time": "2024-03-22T12:26:14.540437600Z"
    }
   },
   "source": [
    "#wahrscheinlichkeit bei 2000 gehalt [%]\n",
    "#predict() predicts a value, predict_proba predicts the probability\n",
    "#I could not find a way to make it work with just 1 value, therefore I made\n",
    "#an array and will ignore the result for 2001 below.\n",
    "val = np.log(np.array([2000,2001]))\n",
    "\n",
    "print(np.log(2000))\n",
    "print((logreg.predict_proba(val.reshape(-1,1))*100.)[0])\n",
    "\n",
    "#7.6 ist der x-Achsenwert  \n",
    "#die zweite Zahl, also 31.1 ist die Wahrscheinlichkeit.\n"
   ],
   "outputs": []
  },
  {
   "cell_type": "code",
   "execution_count": null,
   "metadata": {
    "ExecuteTime": {
     "start_time": "2024-03-22T12:26:14.543059200Z"
    }
   },
   "source": [
    "print(logreg.score)"
   ],
   "outputs": []
  },
  {
   "cell_type": "code",
   "source": [],
   "metadata": {
    "collapsed": false,
    "ExecuteTime": {
     "start_time": "2024-03-22T12:26:14.543059200Z"
    }
   },
   "execution_count": null,
   "outputs": []
  }
 ],
 "metadata": {
  "kernelspec": {
   "display_name": "Python 3 (ipykernel)",
   "language": "python",
   "name": "python3"
  },
  "language_info": {
   "codemirror_mode": {
    "name": "ipython",
    "version": 3
   },
   "file_extension": ".py",
   "mimetype": "text/x-python",
   "name": "python",
   "nbconvert_exporter": "python",
   "pygments_lexer": "ipython3",
   "version": "3.9.7"
  }
 },
 "nbformat": 4,
 "nbformat_minor": 2
}
