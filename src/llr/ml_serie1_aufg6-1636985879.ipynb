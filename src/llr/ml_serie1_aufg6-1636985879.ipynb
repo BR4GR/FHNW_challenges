
<!-- saved from url=(0085)https://ds-spaces.technik.fhnw.ch/app/uploads/sites/127/2021/11/ml_serie1_aufg6.ipynb -->
<html><head><meta http-equiv="Content-Type" content="text/html; charset=UTF-8"></head><body>{
 "cells": [
  {
   "cell_type": "markdown",
   "metadata": {},
   "source": [
    "Musterloesung Serie 1, Aufg. 6, logistische Regression"
   ]
  },
  {
   "cell_type": "code",
   "execution_count": 1,
   "metadata": {},
   "outputs": [
    {
     "data": {
      "text/html": [
       "<div>\n",
       "<style scoped="">\n",
       "    .dataframe tbody tr th:only-of-type {\n",
       "        vertical-align: middle;\n",
       "    }\n",
       "\n",
       "    .dataframe tbody tr th {\n",
       "        vertical-align: top;\n",
       "    }\n",
       "\n",
       "    .dataframe thead th {\n",
       "        text-align: right;\n",
       "    }\n",
       "</style>\n",
       "\n",
       "  \n",
       "    \n",
       "      \n",
       "      \n",
       "      \n",
       "      \n",
       "      \n",
       "      \n",
       "      \n",
       "      \n",
       "      \n",
       "      \n",
       "      \n",
       "      \n",
       "      \n",
       "      \n",
       "      \n",
       "      \n",
       "      \n",
       "      \n",
       "      \n",
       "      \n",
       "      \n",
       "      \n",
       "    \n",
       "  \n",
       "  \n",
       "    \n",
       "      \n",
       "      \n",
       "      \n",
       "      \n",
       "      \n",
       "      \n",
       "      \n",
       "      \n",
       "      \n",
       "      \n",
       "      \n",
       "      \n",
       "      \n",
       "      \n",
       "      \n",
       "      \n",
       "      \n",
       "      \n",
       "      \n",
       "      \n",
       "      \n",
       "      \n",
       "    \n",
       "    \n",
       "      \n",
       "      \n",
       "      \n",
       "      \n",
       "      \n",
       "      \n",
       "      \n",
       "      \n",
       "      \n",
       "      \n",
       "      \n",
       "      \n",
       "      \n",
       "      \n",
       "      \n",
       "      \n",
       "      \n",
       "      \n",
       "      \n",
       "      \n",
       "      \n",
       "      \n",
       "    \n",
       "    \n",
       "      \n",
       "      \n",
       "      \n",
       "      \n",
       "      \n",
       "      \n",
       "      \n",
       "      \n",
       "      \n",
       "      \n",
       "      \n",
       "      \n",
       "      \n",
       "      \n",
       "      \n",
       "      \n",
       "      \n",
       "      \n",
       "      \n",
       "      \n",
       "      \n",
       "      \n",
       "    \n",
       "    \n",
       "      \n",
       "      \n",
       "      \n",
       "      \n",
       "      \n",
       "      \n",
       "      \n",
       "      \n",
       "      \n",
       "      \n",
       "      \n",
       "      \n",
       "      \n",
       "      \n",
       "      \n",
       "      \n",
       "      \n",
       "      \n",
       "      \n",
       "      \n",
       "      \n",
       "      \n",
       "    \n",
       "    \n",
       "      \n",
       "      \n",
       "      \n",
       "      \n",
       "      \n",
       "      \n",
       "      \n",
       "      \n",
       "      \n",
       "      \n",
       "      \n",
       "      \n",
       "      \n",
       "      \n",
       "      \n",
       "      \n",
       "      \n",
       "      \n",
       "      \n",
       "      \n",
       "      \n",
       "      \n",
       "    \n",
       "  \n",
       "<table border="\&quot;1\&quot;" class="\&quot;dataframe\&quot;"><thead><tr style="\&quot;text-align:" right;\"=""><th></th><th>meanfreq</th><th>sd</th><th>median</th><th>Q25</th><th>Q75</th><th>IQR</th><th>skew</th><th>kurt</th><th>sp.ent</th><th>sfm</th><th>...</th><th>centroid</th><th>meanfun</th><th>minfun</th><th>maxfun</th><th>meandom</th><th>mindom</th><th>maxdom</th><th>dfrange</th><th>modindx</th><th>label</th></tr></thead><tbody><tr><th>0</th><td>0.059781</td><td>0.064241</td><td>0.032027</td><td>0.015071</td><td>0.090193</td><td>0.075122</td><td>12.863462</td><td>274.402906</td><td>0.893369</td><td>0.491918</td><td>...</td><td>0.059781</td><td>0.084279</td><td>0.015702</td><td>0.275862</td><td>0.007812</td><td>0.007812</td><td>0.007812</td><td>0.000000</td><td>0.000000</td><td>male</td></tr><tr><th>1</th><td>0.066009</td><td>0.067310</td><td>0.040229</td><td>0.019414</td><td>0.092666</td><td>0.073252</td><td>22.423285</td><td>634.613855</td><td>0.892193</td><td>0.513724</td><td>...</td><td>0.066009</td><td>0.107937</td><td>0.015826</td><td>0.250000</td><td>0.009014</td><td>0.007812</td><td>0.054688</td><td>0.046875</td><td>0.052632</td><td>male</td></tr><tr><th>2</th><td>0.077316</td><td>0.083829</td><td>0.036718</td><td>0.008701</td><td>0.131908</td><td>0.123207</td><td>30.757155</td><td>1024.927705</td><td>0.846389</td><td>0.478905</td><td>...</td><td>0.077316</td><td>0.098706</td><td>0.015656</td><td>0.271186</td><td>0.007990</td><td>0.007812</td><td>0.015625</td><td>0.007812</td><td>0.046512</td><td>male</td></tr><tr><th>3</th><td>0.151228</td><td>0.072111</td><td>0.158011</td><td>0.096582</td><td>0.207955</td><td>0.111374</td><td>1.232831</td><td>4.177296</td><td>0.963322</td><td>0.727232</td><td>...</td><td>0.151228</td><td>0.088965</td><td>0.017798</td><td>0.250000</td><td>0.201497</td><td>0.007812</td><td>0.562500</td><td>0.554688</td><td>0.247119</td><td>male</td></tr><tr><th>4</th><td>0.135120</td><td>0.079146</td><td>0.124656</td><td>0.078720</td><td>0.206045</td><td>0.127325</td><td>1.101174</td><td>4.333713</td><td>0.971955</td><td>0.783568</td><td>...</td><td>0.135120</td><td>0.106398</td><td>0.016931</td><td>0.266667</td><td>0.712812</td><td>0.007812</td><td>5.484375</td><td>5.476562</td><td>0.208274</td><td>male</td></tr></tbody></table>\n",
       "<p>5 rows × 21 columns</p>\n",
       "</div>"
      ],
      "text/plain": [
       "   meanfreq        sd    median       Q25       Q75       IQR       skew  \\\n",
       "0  0.059781  0.064241  0.032027  0.015071  0.090193  0.075122  12.863462   \n",
       "1  0.066009  0.067310  0.040229  0.019414  0.092666  0.073252  22.423285   \n",
       "2  0.077316  0.083829  0.036718  0.008701  0.131908  0.123207  30.757155   \n",
       "3  0.151228  0.072111  0.158011  0.096582  0.207955  0.111374   1.232831   \n",
       "4  0.135120  0.079146  0.124656  0.078720  0.206045  0.127325   1.101174   \n",
       "\n",
       "          kurt    sp.ent       sfm  ...  centroid   meanfun    minfun  \\\n",
       "0   274.402906  0.893369  0.491918  ...  0.059781  0.084279  0.015702   \n",
       "1   634.613855  0.892193  0.513724  ...  0.066009  0.107937  0.015826   \n",
       "2  1024.927705  0.846389  0.478905  ...  0.077316  0.098706  0.015656   \n",
       "3     4.177296  0.963322  0.727232  ...  0.151228  0.088965  0.017798   \n",
       "4     4.333713  0.971955  0.783568  ...  0.135120  0.106398  0.016931   \n",
       "\n",
       "     maxfun   meandom    mindom    maxdom   dfrange   modindx  label  \n",
       "0  0.275862  0.007812  0.007812  0.007812  0.000000  0.000000   male  \n",
       "1  0.250000  0.009014  0.007812  0.054688  0.046875  0.052632   male  \n",
       "2  0.271186  0.007990  0.007812  0.015625  0.007812  0.046512   male  \n",
       "3  0.250000  0.201497  0.007812  0.562500  0.554688  0.247119   male  \n",
       "4  0.266667  0.712812  0.007812  5.484375  5.476562  0.208274   male  \n",
       "\n",
       "[5 rows x 21 columns]"
      ]
     },
     "execution_count": 1,
     "metadata": {},
     "output_type": "execute_result"
    }
   ],
   "source": [
    "# libraries pandas, matplotlib und numpy\n",
    "import pandas as pd \n",
    "import matplotlib.pyplot as plt\n",
    "import numpy as np\n",
    "\n",
    "# Daten einlesen\n",
    "data = pd.read_csv(\"voice.csv\") \n",
    "\n",
    "# Preview the first 5 lines of the loaded data \n",
    "data.head()"
   ]
  },
  {
   "cell_type": "markdown",
   "metadata": {},
   "source": [
    "Wir wollen herausfinden, welche der Eigenschaften der Stimme (meanfreq, median, meanfun) am besten voraussagen kann, ob die Person weiblich oder maennlich ist. Dazu muessen wir jeweils eine logistische Funktion fitten."
   ]
  },
  {
   "cell_type": "code",
   "execution_count": 2,
   "metadata": {},
   "outputs": [],
   "source": [
    "#load libraries for regression\n",
    "from sklearn.linear_model import LogisticRegression\n",
    "from sklearn import metrics\n",
    "import seaborn as sn"
   ]
  },
  {
   "cell_type": "markdown",
   "metadata": {},
   "source": [
    "In diesem Fall sind alle Daten brauchbar, d.h. man muss nicht zuerst bereinigen (wenn man das nicht wuesste, muesste man es aber testen)."
   ]
  },
  {
   "cell_type": "code",
   "execution_count": 3,
   "metadata": {},
   "outputs": [
    {
     "data": {
      "text/html": [
       "<div>\n",
       "<style scoped="">\n",
       "    .dataframe tbody tr th:only-of-type {\n",
       "        vertical-align: middle;\n",
       "    }\n",
       "\n",
       "    .dataframe tbody tr th {\n",
       "        vertical-align: top;\n",
       "    }\n",
       "\n",
       "    .dataframe thead th {\n",
       "        text-align: right;\n",
       "    }\n",
       "</style>\n",
       "\n",
       "  \n",
       "    \n",
       "      \n",
       "      \n",
       "      \n",
       "      \n",
       "      \n",
       "      \n",
       "      \n",
       "      \n",
       "      \n",
       "      \n",
       "      \n",
       "      \n",
       "      \n",
       "      \n",
       "      \n",
       "      \n",
       "      \n",
       "      \n",
       "      \n",
       "      \n",
       "      \n",
       "      \n",
       "    \n",
       "  \n",
       "  \n",
       "    \n",
       "      \n",
       "      \n",
       "      \n",
       "      \n",
       "      \n",
       "      \n",
       "      \n",
       "      \n",
       "      \n",
       "      \n",
       "      \n",
       "      \n",
       "      \n",
       "      \n",
       "      \n",
       "      \n",
       "      \n",
       "      \n",
       "      \n",
       "      \n",
       "      \n",
       "      \n",
       "    \n",
       "    \n",
       "      \n",
       "      \n",
       "      \n",
       "      \n",
       "      \n",
       "      \n",
       "      \n",
       "      \n",
       "      \n",
       "      \n",
       "      \n",
       "      \n",
       "      \n",
       "      \n",
       "      \n",
       "      \n",
       "      \n",
       "      \n",
       "      \n",
       "      \n",
       "      \n",
       "      \n",
       "    \n",
       "    \n",
       "      \n",
       "      \n",
       "      \n",
       "      \n",
       "      \n",
       "      \n",
       "      \n",
       "      \n",
       "      \n",
       "      \n",
       "      \n",
       "      \n",
       "      \n",
       "      \n",
       "      \n",
       "      \n",
       "      \n",
       "      \n",
       "      \n",
       "      \n",
       "      \n",
       "      \n",
       "    \n",
       "    \n",
       "      \n",
       "      \n",
       "      \n",
       "      \n",
       "      \n",
       "      \n",
       "      \n",
       "      \n",
       "      \n",
       "      \n",
       "      \n",
       "      \n",
       "      \n",
       "      \n",
       "      \n",
       "      \n",
       "      \n",
       "      \n",
       "      \n",
       "      \n",
       "      \n",
       "      \n",
       "    \n",
       "    \n",
       "      \n",
       "      \n",
       "      \n",
       "      \n",
       "      \n",
       "      \n",
       "      \n",
       "      \n",
       "      \n",
       "      \n",
       "      \n",
       "      \n",
       "      \n",
       "      \n",
       "      \n",
       "      \n",
       "      \n",
       "      \n",
       "      \n",
       "      \n",
       "      \n",
       "      \n",
       "    \n",
       "  \n",
       "<table border="\&quot;1\&quot;" class="\&quot;dataframe\&quot;"><thead><tr style="\&quot;text-align:" right;\"=""><th></th><th>meanfreq</th><th>sd</th><th>median</th><th>Q25</th><th>Q75</th><th>IQR</th><th>skew</th><th>kurt</th><th>sp.ent</th><th>sfm</th><th>...</th><th>meanfun</th><th>minfun</th><th>maxfun</th><th>meandom</th><th>mindom</th><th>maxdom</th><th>dfrange</th><th>modindx</th><th>label_female</th><th>label_male</th></tr></thead><tbody><tr><th>0</th><td>0.059781</td><td>0.064241</td><td>0.032027</td><td>0.015071</td><td>0.090193</td><td>0.075122</td><td>12.863462</td><td>274.402906</td><td>0.893369</td><td>0.491918</td><td>...</td><td>0.084279</td><td>0.015702</td><td>0.275862</td><td>0.007812</td><td>0.007812</td><td>0.007812</td><td>0.000000</td><td>0.000000</td><td>0</td><td>1</td></tr><tr><th>1</th><td>0.066009</td><td>0.067310</td><td>0.040229</td><td>0.019414</td><td>0.092666</td><td>0.073252</td><td>22.423285</td><td>634.613855</td><td>0.892193</td><td>0.513724</td><td>...</td><td>0.107937</td><td>0.015826</td><td>0.250000</td><td>0.009014</td><td>0.007812</td><td>0.054688</td><td>0.046875</td><td>0.052632</td><td>0</td><td>1</td></tr><tr><th>2</th><td>0.077316</td><td>0.083829</td><td>0.036718</td><td>0.008701</td><td>0.131908</td><td>0.123207</td><td>30.757155</td><td>1024.927705</td><td>0.846389</td><td>0.478905</td><td>...</td><td>0.098706</td><td>0.015656</td><td>0.271186</td><td>0.007990</td><td>0.007812</td><td>0.015625</td><td>0.007812</td><td>0.046512</td><td>0</td><td>1</td></tr><tr><th>3</th><td>0.151228</td><td>0.072111</td><td>0.158011</td><td>0.096582</td><td>0.207955</td><td>0.111374</td><td>1.232831</td><td>4.177296</td><td>0.963322</td><td>0.727232</td><td>...</td><td>0.088965</td><td>0.017798</td><td>0.250000</td><td>0.201497</td><td>0.007812</td><td>0.562500</td><td>0.554688</td><td>0.247119</td><td>0</td><td>1</td></tr><tr><th>4</th><td>0.135120</td><td>0.079146</td><td>0.124656</td><td>0.078720</td><td>0.206045</td><td>0.127325</td><td>1.101174</td><td>4.333713</td><td>0.971955</td><td>0.783568</td><td>...</td><td>0.106398</td><td>0.016931</td><td>0.266667</td><td>0.712812</td><td>0.007812</td><td>5.484375</td><td>5.476562</td><td>0.208274</td><td>0</td><td>1</td></tr></tbody></table>\n",
       "<p>5 rows × 22 columns</p>\n",
       "</div>"
      ],
      "text/plain": [
       "   meanfreq        sd    median       Q25       Q75       IQR       skew  \\\n",
       "0  0.059781  0.064241  0.032027  0.015071  0.090193  0.075122  12.863462   \n",
       "1  0.066009  0.067310  0.040229  0.019414  0.092666  0.073252  22.423285   \n",
       "2  0.077316  0.083829  0.036718  0.008701  0.131908  0.123207  30.757155   \n",
       "3  0.151228  0.072111  0.158011  0.096582  0.207955  0.111374   1.232831   \n",
       "4  0.135120  0.079146  0.124656  0.078720  0.206045  0.127325   1.101174   \n",
       "\n",
       "          kurt    sp.ent       sfm  ...   meanfun    minfun    maxfun  \\\n",
       "0   274.402906  0.893369  0.491918  ...  0.084279  0.015702  0.275862   \n",
       "1   634.613855  0.892193  0.513724  ...  0.107937  0.015826  0.250000   \n",
       "2  1024.927705  0.846389  0.478905  ...  0.098706  0.015656  0.271186   \n",
       "3     4.177296  0.963322  0.727232  ...  0.088965  0.017798  0.250000   \n",
       "4     4.333713  0.971955  0.783568  ...  0.106398  0.016931  0.266667   \n",
       "\n",
       "    meandom    mindom    maxdom   dfrange   modindx  label_female  label_male  \n",
       "0  0.007812  0.007812  0.007812  0.000000  0.000000             0           1  \n",
       "1  0.009014  0.007812  0.054688  0.046875  0.052632             0           1  \n",
       "2  0.007990  0.007812  0.015625  0.007812  0.046512             0           1  \n",
       "3  0.201497  0.007812  0.562500  0.554688  0.247119             0           1  \n",
       "4  0.712812  0.007812  5.484375  5.476562  0.208274             0           1  \n",
       "\n",
       "[5 rows x 22 columns]"
      ]
     },
     "execution_count": 3,
     "metadata": {},
     "output_type": "execute_result"
    }
   ],
   "source": [
    "#dummy coding fuer male/female\n",
    "x  = data['meanfreq'].values.reshape(-1,1)\n",
    "dummies = pd.get_dummies(data, columns=['label'])\n",
    "y = dummies['label_male'].values.reshape(-1,1)\n",
    "dummies.head()"
   ]
  },
  {
   "cell_type": "code",
   "execution_count": 4,
   "metadata": {},
   "outputs": [],
   "source": [
    "#not sure why pandas creates 2D arrays, but need 1D otherwise logistic regression would crash\n",
    "x=x[:,0]\n",
    "y=y[:,0]"
   ]
  },
  {
   "cell_type": "code",
   "execution_count": 5,
   "metadata": {},
   "outputs": [
    {
     "data": {
      "text/plain": [
       "(3168,)"
      ]
     },
     "execution_count": 5,
     "metadata": {},
     "output_type": "execute_result"
    }
   ],
   "source": [
    "#Anzahl Eintrage in unserem Datensatz\n",
    "x.shape"
   ]
  },
  {
   "cell_type": "code",
   "execution_count": 6,
   "metadata": {},
   "outputs": [
    {
     "data": {
      "image/png": "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\n",
      "text/plain": [
       "<figure size="" 432x288="" with="" 1="" axes="">"
      ]
     },
     "metadata": {
      "needs_background": "light"
     },
     "output_type": "display_data"
    }
   ],
   "source": [
    "#scatter plot\n",
    "plt.plot(x,y,'o')\n",
    "plt.show()\n",
    "\n",
    "#Codierung: 1=Mann, 0=Frau"
   ]
  },
  {
   "cell_type": "markdown",
   "metadata": {},
   "source": [
    "Man sieht, dass Maenner generell eine tiefere meanfreq (mittlere Frequenz der Stimme haben). Auch sieht man einen grossen Ueberlapp, sodass wir uns schon denken koennen, dass ein logistisches Modell Muehe haben koennte."
   ]
  },
  {
   "cell_type": "code",
   "execution_count": 7,
   "metadata": {},
   "outputs": [],
   "source": [
    "#train the model\n",
    "\n",
    "from sklearn.model_selection import train_test_split\n",
    "X_train, X_test, y_train, y_test = train_test_split(x.reshape(-1,1), y, test_size = 0.2, random_state = 0)\n",
    "# wir trainieren auf 80% der Daten und testen mit 20% der Daten."
   ]
  },
  {
   "cell_type": "code",
   "execution_count": 8,
   "metadata": {},
   "outputs": [
    {
     "name": "stdout",
     "output_type": "stream",
     "text": [
      "[[-25.8863948]] [4.67301218]\n"
     ]
    }
   ],
   "source": [
    "# die log. Regression in Python macht als Default Regularisierung. Dies wollen wir aber hier nicht.\n",
    "logreg = LogisticRegression(penalty='none') #funktioniert nicht mit python 2.x\n",
    "#logreg = LogisticRegression(C=10000) #koennte evtl mit python 2.x gehen\n",
    "\n",
    "# Fit des Modells (training data)\n",
    "logreg.fit(X_train,y_train)\n",
    "\n",
    "# Vorhersage von y fuer die Testdaten\n",
    "y_pred=logreg.predict(X_test)\n",
    "y_pred2 = logreg.predict_proba(X_test)[:,1]  #zwischen 0 und 1\n",
    "\n",
    "print(logreg.coef_, logreg.intercept_)\n",
    "\n"
   ]
  },
  {
   "cell_type": "code",
   "execution_count": 9,
   "metadata": {},
   "outputs": [
    {
     "data": {
      "text/plain": [
       "(2534,)"
      ]
     },
     "execution_count": 9,
     "metadata": {},
     "output_type": "execute_result"
    }
   ],
   "source": [
    "#Anzahl Eintrage fuer Training\n",
    "y_train.shape"
   ]
  },
  {
   "cell_type": "code",
   "execution_count": 10,
   "metadata": {},
   "outputs": [
    {
     "data": {
      "text/plain": [
       "(634,)"
      ]
     },
     "execution_count": 10,
     "metadata": {},
     "output_type": "execute_result"
    }
   ],
   "source": [
    "#Anzahl Eintrage fuers Testen\n",
    "y_test.shape"
   ]
  },
  {
   "cell_type": "code",
   "execution_count": 11,
   "metadata": {},
   "outputs": [
    {
     "data": {
      "text/plain": [
       "array([[223,  78],\n",
       "       [144, 189]])"
      ]
     },
     "execution_count": 11,
     "metadata": {},
     "output_type": "execute_result"
    }
   ],
   "source": [
    "#confusion matrix \n",
    "from sklearn import metrics\n",
    "cnf_matrix = metrics.confusion_matrix(y_test, y_pred)\n",
    "cnf_matrix\n"
   ]
  },
  {
   "cell_type": "markdown",
   "metadata": {},
   "source": [
    "Die falsch-positiven und falsch-negativen Klassifikationen betragen 144+78=222, im Vergleich zu den richtig klassifizierten Punkten (223+189=412). Somit wurden 222/(222+412) = 35% falsch klassifiziert. Dies ist nicht besonders gut.\n",
    "\n",
    "Wir schauen, ob die anderen Variablen besser sind, um male/female zu unterscheiden."
   ]
  },
  {
   "cell_type": "code",
   "execution_count": 12,
   "metadata": {},
   "outputs": [],
   "source": [
    "#Berechnung der Klassifikationsgrenze (bei 0.5)\n",
    "#0.5 = 1./(1.+np.exp(-(x*logreg.coef_[0]+ logreg.intercept_[0])))\n",
    "# (1.+np.exp(-(x*logreg.coef_[0]+ logreg.intercept_[0]))) = 1./0.5\n",
    "# np.exp(-(x*logreg.coef_[0]+ logreg.intercept_[0]))) = 1./0.5 - 1   #-&gt;log\n",
    "# -(x*logreg.coef_[0]+ logreg.intercept_[0]))) = np.log(1./0.5 - 1)  \n",
    "grenze = (np.log(1./0.5 - 1) - logreg.intercept_[0] ) / logreg.coef_[0]"
   ]
  },
  {
   "cell_type": "code",
   "execution_count": 13,
   "metadata": {},
   "outputs": [
    {
     "data": {
      "image/png": "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\n",
      "text/plain": [
       "<figure size="" 432x288="" with="" 1="" axes="">"
      ]
     },
     "metadata": {
      "needs_background": "light"
     },
     "output_type": "display_data"
    }
   ],
   "source": [
    "#plotting\n",
    "#scatter plot\n",
    "plt.plot(x,y,'o')\n",
    "plt.plot(X_test,y_pred2,'o')\n",
    "plt.axhline(y = 0.5, color = 'r', linestyle = '-')\n",
    "plt.axvline(x = grenze, color = 'r', linestyle = '-') # Berechneter Wert bei y=0.5\n",
    "plt.show()\n",
    "\n",
    "# hier sieht man die fehlende Trennung der Datenpunkte in x und dass einige falsch klassifiziert werden."
   ]
  },
  {
   "cell_type": "markdown",
   "metadata": {},
   "source": [
    "Wir testen nun die anderen Variablen"
   ]
  },
  {
   "cell_type": "code",
   "execution_count": 14,
   "metadata": {},
   "outputs": [],
   "source": [
    "x  = data['median'].values.reshape(-1,1)\n",
    "x=x[:,0]"
   ]
  },
  {
   "cell_type": "code",
   "execution_count": 15,
   "metadata": {},
   "outputs": [
    {
     "data": {
      "image/png": "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\n",
      "text/plain": [
       "<figure size="" 432x288="" with="" 1="" axes="">"
      ]
     },
     "metadata": {
      "needs_background": "light"
     },
     "output_type": "display_data"
    }
   ],
   "source": [
    "#scatter plot\n",
    "plt.plot(x,y,'o')\n",
    "plt.show()\n",
    "\n",
    "#Codierung: 1=Mann, 0=Frau"
   ]
  },
  {
   "cell_type": "markdown",
   "metadata": {},
   "source": [
    "Dies sieht schlecht aus mit der Trennung der Daten in x-Richtung, deswegen verzichten wir auf den Fit."
   ]
  },
  {
   "cell_type": "markdown",
   "metadata": {},
   "source": [
    "Der naechste Test ist mit meanfun"
   ]
  },
  {
   "cell_type": "code",
   "execution_count": 16,
   "metadata": {},
   "outputs": [],
   "source": [
    "x  = data['meanfun'].values.reshape(-1,1)\n",
    "x=x[:,0]"
   ]
  },
  {
   "cell_type": "code",
   "execution_count": 17,
   "metadata": {},
   "outputs": [
    {
     "data": {
      "image/png": "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\n",
      "text/plain": [
       "<figure size="" 432x288="" with="" 1="" axes="">"
      ]
     },
     "metadata": {
      "needs_background": "light"
     },
     "output_type": "display_data"
    }
   ],
   "source": [
    "#scatter plot\n",
    "plt.plot(x,y,'o')\n",
    "plt.show()\n",
    "\n",
    "#Codierung: 1=Mann, 0=Frau"
   ]
  },
  {
   "cell_type": "markdown",
   "metadata": {},
   "source": [
    "Dies sieht besser aus, da der Ueberlapp kleiner ist."
   ]
  },
  {
   "cell_type": "code",
   "execution_count": 18,
   "metadata": {},
   "outputs": [],
   "source": [
    "#train the model\n",
    "\n",
    "from sklearn.model_selection import train_test_split\n",
    "X_train, X_test, y_train, y_test = train_test_split(x.reshape(-1,1), y, test_size = 0.2, random_state = 0)\n"
   ]
  },
  {
   "cell_type": "code",
   "execution_count": 19,
   "metadata": {},
   "outputs": [
    {
     "name": "stdout",
     "output_type": "stream",
     "text": [
      "[[-189.17086626]] [26.78272021]\n"
     ]
    }
   ],
   "source": [
    "# die log. Regression in Python macht als Default Regularisierung. Dies wollen wir aber hier nicht.\n",
    "logreg = LogisticRegression(penalty='none') #funktioniert nicht mit python 2.x\n",
    "\n",
    "# fit the model with data\n",
    "logreg.fit(X_train,y_train)\n",
    "\n",
    "#\n",
    "y_pred  = logreg.predict(X_test)\n",
    "y_pred2 = logreg.predict_proba(X_test)[:,1]\n",
    "\n",
    "print(logreg.coef_, logreg.intercept_)\n",
    "\n"
   ]
  },
  {
   "cell_type": "code",
   "execution_count": 20,
   "metadata": {},
   "outputs": [
    {
     "data": {
      "text/plain": [
       "array([0.14157952])"
      ]
     },
     "execution_count": 20,
     "metadata": {},
     "output_type": "execute_result"
    }
   ],
   "source": [
    "#Berechnung der Klassifikationsgrenze (bei 0.5)\n",
    "#0.5 = 1./(1.+np.exp(-(x*logreg.coef_[0]+ logreg.intercept_[0])))\n",
    "# (1.+np.exp(-(x*logreg.coef_[0]+ logreg.intercept_[0]))) = 1./0.5\n",
    "# np.exp(-(x*logreg.coef_[0]+ logreg.intercept_[0]))) = 1./0.5 - 1   #-&gt;log\n",
    "# -(x*logreg.coef_[0]+ logreg.intercept_[0]))) = np.log(1./0.5 - 1)  \n",
    "grenze = (np.log(1./0.5 - 1) - logreg.intercept_[0] ) / logreg.coef_[0]\n",
    "grenze"
   ]
  },
  {
   "cell_type": "code",
   "execution_count": 21,
   "metadata": {},
   "outputs": [
    {
     "data": {
      "text/plain": [
       "array([[283,  18],\n",
       "       [ 11, 322]])"
      ]
     },
     "execution_count": 21,
     "metadata": {},
     "output_type": "execute_result"
    }
   ],
   "source": [
    "#confusion matrix\n",
    "from sklearn import metrics\n",
    "cnf_matrix = metrics.confusion_matrix(y_test, y_pred)\n",
    "cnf_matrix\n"
   ]
  },
  {
   "cell_type": "markdown",
   "metadata": {},
   "source": [
    "Dies sieht ziemlich gut aus. Die falsch-positiven und falsch-negativen Klassifikationen betragen 11+18=29, im Vergleich zu den richtig klassifizierten Punkten (283+322). Somit wurden 29/(605+29) = 4.6% falsch klassifiziert. Dies bezieht sich uebrigens nur auf das Testset. "
   ]
  },
  {
   "cell_type": "code",
   "execution_count": 22,
   "metadata": {},
   "outputs": [
    {
     "data": {
      "image/png": "iVBORw0KGgoAAAANSUhEUgAAAXQAAAD4CAYAAAD8Zh1EAAAABHNCSVQICAgIfAhkiAAAAAlwSFlzAAALEgAACxIB0t1+/AAAADh0RVh0U29mdHdhcmUAbWF0cGxvdGxpYiB2ZXJzaW9uMy4yLjEsIGh0dHA6Ly9tYXRwbG90bGliLm9yZy+j8jraAAAdxUlEQVR4nO3dfXAc9Z3n8fdXT0Y8+QGJWvwANls8LA++ECuQ3ZAACykeyjEO4YRNOENgYbOJc8k5BzgFAcNuKoB3veEq5DgSHpMzjrNHfIJAuZYEs2EvdpADgZjgxBiCH0iQje1abGHr4Xt/dEsejaZnRtJM90zP51Wl0qh/v+n+etzzUav7N/0zd0dERKpfXdIFiIhIaSjQRURSQoEuIpISCnQRkZRQoIuIpERDUhtuaWnx6dOnJ7V5qVUbNwbfTzop2TpERmn9+vU73L01V1tigT59+nQ6OzuT2rzUqnPPDb6vWZNkFSKjZmZ/iGrTKRcRkZRQoIuIpIQCXUQkJRToIiIpoUAXEUmJgqNczOwhYDbwrruflqPdgHuBS4B9wDXu/qtSFwqw6qVtLF29ke27uxnf3IgZ7N7Xw+QJzdx44UnMPWPKkD7zDlnLl1jOn/kOtnsL9/S209F/NmbwKXuBJY2PMZH3AXjPD+eO3gX827jz6Onr5/ze57mpYSWTbQd7fRyH2gHqcPqo4//1/wUfrtvEYewvWLMDFj7eyyHs9wYmWrDNgeX9GP/efwqn1f1hsJ4kOPD9vgu4vffaxGootxWbdwIwb/FPRvX8hjqjt9+pN6PPnSkTmjnv5Faee72L7bu7h+yLcHCf3ba7GyN4jQdMaG5kyZxTh+23A+sAWNKxgd3dPYPPMYO/On4Sb+3sZtvu7iF1ZG53wK2rXmX5urfpz9jwxEMbuf1Tpw7rK9XPCt1t0cw+AbwPPBYR6JcAXyII9LOAe939rEIbbmtr85EMW1z10ja+9sSrdPf05WxvbqznM7Om8H/Wb6O7p485dS9wV+P3ONQODPbZ500s7vkbAP6x8QGarHfIOvZ7PTf2/C3AsOdmcg/eWKVUjnWOto7R+Hn/qSzouaW0xZTBiuWLAZh35V1l20ZzYz3fvOx0gLz7LEBjnXHFmdMG99vM5X3uQ4K42O0OBPWtq17lB2vfzr3demPp5f9JoV6FzGy9u7flait4hO7u/2Zm0/N0uZQg7B1Ya2YTzOwYd39nVNVGWLp6Y943RndPH4+v20JfmEg3NawcFsiH2gFualgJMCzMAcZZ32B7VJhDeYK3EsIcRl/Hx+s28Oa4Kwd/roWj/SjdPX0sXb1x8HE+Pf0+ZL/NXD7a7Q6E9OPrtkRvt8+H9JV0KMUHi6YAmXvO1nDZsEA3sxuAGwCOPfbYEW1k++7ugn0y3xSTbUfOPpNtJ0P/8B1Zu+SW/YvAgAX1z7Kg/lmg9gK+mP11QHaYl2q7hdY7khqlOsR6UdTdH3D3Nndva23N+cnVSJMnNBfsU5+RKtu9JWef7X5UZFsx7VI8s4NfdRYE/JvjruSOhoeSLq3sJk9oLmqfhaH7bSm2W+x6i61PqkcpAn0bMC3j56nhspK68cKTaG6sj2xvbqxn/lnTBvvc09vOPm8a0mefN3FPbzv39LZzwIf/cbLf6wfbs5+bqRyTPNXCxFED4b6g/lk2j7uSOXUvJF1SWTQ31nPjhScV3GchOFeeud9mLq8bYc4PbHfA/LOmRfZtrLchfSUdSnHKpQNYaGYrCC6K7in1+XNg8FxfoVEubcdNYunqjTy5+2wOs4ZwlMtOtvtRQ0a50EPeUS6LewhHuexkrzelepRL3OfvzYJ/+72N3+FmX87HDnwn3gLGYKSjXICiRrkM7LelHOXyD3ODC7Ma5VI7ihnl8jhwLtAC/Am4HWgEcPf7w2GL3wYuIhi2+Dl3Lzh8ZaSjXKRMXlkJP/5b8P5k62g5GRauK/92dHMuqXJjHeUyv0C7A18cZW2StJntwddIvbISnvg8kH8UR9F2vA53tMDtuS9mi0hhid0+V6pc1C+Cv/8z6Bvl6AnvgSUTYcmusdUmUqP00X8pra//EZbsCb7arhvFCvphyfiSlyVSCxToUj6zlx0M9/oRDpFTqIuMmAJd4vH1P8Jl3x3ZcxTqIiOiQJf4zGwPjtZnnFP8c745sk8Ui9QyBbrE7+qOINiL2f327wlG1IhIQQp0SU6xo1meuL68dYikhAJdkrVkT3H97tD9dUQKUaBL8oq5WOo98O2Ct9kXqWkKdEnezPbgo/+F7Hi9/LWIVDEFulSGheuKG6v+1KLy1yJSpRToUjm+/sfCfTofLH8dIlVKgS6VpZjz6TpKF8lJgS6VpZg7P+ooXSQnBbpUnmJu6vXonPLXIVJlFOhSeWYvg7roKQABePP5eGoRqSIKdKlMc+8r3Efn0kWGUKBLZSpmbPr6h+OpRaRKKNClchWaYzTpeVBFKowCXaqbLo6KDFKgS2UrdO90XRwVGaRAl8p2dUfSFYhUDQW6VL5CF0c12kUEUKBLNSh0cVSfHBUBFOhSNSx/s6apE1GgS5VouzZ/+0/vjKcOkQqmQJfqMHsZWH10+54t8dUiUqEU6FI9Pn1/dJtpVxbRu0CqR75b63q/zqNLzVOgS3UZPy267Zmb46tDpAIp0KW6nH9bdFv3e/HVIVKBigp0M7vIzDaa2SYzW5yj/Vgze87MXjKzV8zsktKXKkLhGY102kVqWMFAN7N64D7gYuAUYL6ZnZLV7VZgpbufAcwDvlPqQkWK8uRXkq5AJDHFHKGfCWxy983ufgBYAVya1ceBI8PH44HtpStRJEvzpOi2nr3x1SFSYYoJ9ClA5iDfreGyTEuAq8xsK/A08KVcKzKzG8ys08w6u7q6RlGuCHDx3UlXIFKRSnVRdD7wiLtPBS4Bvm82fGCwuz/g7m3u3tba2lqiTUvNKXQeXTfrkhpVTKBvAzLHik0Nl2W6DlgJ4O6/AA4BWkpRoMiIaWo6qVHFBPqLwAlmNsPMmgguembfpPpt4HwAM/sLgkDXORUpn3y3AdDUdFKjCga6u/cCC4HVwG8JRrNsMLM7zWxg/q+vAteb2a+Bx4Fr3N3LVbQIs65JugKRitNQTCd3f5rgYmfmstsyHr8GfKy0pYnkMXtZ/vugv7Ky8Ll2kZTRJ0UlnXQbAKlBCnSpXvnu66LbAEgNUqBL9cp3XxeRGqRAl+ql+7qIDKFAl+qW7zYAmpZOaowCXapbvtsA7NkaXx0iFUCBLtVtZnv0Ufr4qfHWIpIwBbpUv4vvhsbm4csbD4u/FpEEKdCl+s1sh/HHDV++43V4dM7w5SIppUCXdNjxeu7lbz4fbx0iCVKgi4ikhAJdRCQlFOiSDjPOyb285eR46xBJkAJd0uHqjtzhvWuzPjEqNUOBLumx993hy/oO6M6LUjMU6JIeUXdY1J0XpUYo0KU2aOJoqQEKdEmPfDfqWv9IbGWIJEWBLumR70Zd3hdfHSIJUaBLesxsByx3m2lXl/TTXi7pEhncEUEvkiIKdEmXqFMrOuUiNUCBLiKSEgp0EZGUUKBLyuQ5V65bAEjKKdAlXdqujW7TpNGScgp0SZfZy6Lb9myJrw6RBCjQJX3GT4tu29sVXx0iMVOgS/qcf1t028434qtDJGYKdEmfme3Rbf298dUhErOiAt3MLjKzjWa2ycwWR/RpN7PXzGyDmS0vbZkiIlJIQ6EOZlYP3Ad8EtgKvGhmHe7+WkafE4CvAR9z911mdnS5ChYpSvOk6Pug6zy6pFQxR+hnApvcfbO7HwBWAJdm9bkeuM/ddwG4e46pY0RilO/Oizs3xVeHSIyKCfQpQOZ4r63hskwnAiea2b+b2VozuyjXiszsBjPrNLPOri4dJUkZ5T2Prvu6SDqV6qJoA3ACcC4wH/iumU3I7uTuD7h7m7u3tba2lmjTIiICxQX6NiBzYO/UcFmmrUCHu/e4+5vA7wgCXiRBumWu1JZiAv1F4AQzm2FmTcA8oCOrzyqCo3PMrIXgFMzmEtYpMnJRtwE44ph46xCJScFAd/deYCGwGvgtsNLdN5jZnWY2J+y2GthpZq8BzwE3uvvOchUtUpTZy6DtuqSrEIlNwWGLAO7+NPB01rLbMh47sCj8Eqls//EOPLUo/31fRKqQPikq6bb+kZEtF6liCnRJN01JJzVEgS4ikhIKdBGRlFCgi4ikhAJd0q15UnSb5hiVlFGgS7rlu0mX5hiVlFGgS7rlu0nXnq3x1SESAwW6pF/UaZfmifHWIVJmCnQRkZRQoEv6de8a2XKRKqVAl/QbP3Vky0WqlAJd0u/826CxeeiyxuZguUiKWHCjxPi1HXGEd86alci2pQbt7YKdb8D2/cHPk8fBUX8Oh2nmLKku9vzz6929LVebjtCldnj/wcf9vbDj90HQi6REUfdDL4uTToI1axLbvNSYfz4N9jTDI2GoX3NY8H28wX9bk1hZIiNm0VMr6ghdakPUh4j04SJJEQW61IaoES36cJGkiAJdasP5t0F90/DlH+zRTbokNRToUhtmtkNd4/Dl3gfP3Bx/PSJloECX2tGzN/fy7vfirUOkTBToIiIpoUCX2hF518U8k2CIVBEFutSOi+8ePoa3rjH/JBgiVUSBLrVjZju0nAgN4wCD8dNg7nfyT4IhUkUU6FJbDmuFqR+Byx4Ifn7ihuBTpBq6KCmQ3Ef/RZKytwue/K/Q0x38vGdL8DPoaF2qmo7QpfbseutgmA/o6dak0VL1FOhSe3r3516+Z0u8dYiUmAJdalDE3eqsPt4yREpMgS41KGJSF++LtwyREisq0M3sIjPbaGabzGxxnn6fMTM3s5yzaYhUhIZxEQ2m0S5S1QoGupnVA/cBFwOnAPPN7JQc/Y4AvgysK3WRIiU1cTq5T7u4LoxKVSvmCP1MYJO7b3b3A8AK4NIc/f4euBv4oIT1iZTeYa1EnnbRhVGpYsUE+hQgcy/fGi4bZGYfBqa5+0/yrcjMbjCzTjPr7OrSXI6SoKgLoLowKlVszBdFzawOWAZ8tVBfd3/A3dvcva21VbOtS4KiLoDqwqhUsWICfRswLePnqeGyAUcApwFrzOwt4KNAhy6MSkWrj7gwGrVcpAoUE+gvAieY2QwzawLmAR0Dje6+x91b3H26u08H1gJz3L2zLBWLlEJfxIeLopaLVIGCge7uvcBCYDXwW2Clu28wszvNbE65CxQRkeIUdXMud38aeDpr2W0Rfc8de1kiIjJS+qSo1KYZ50S36cNFUqUU6FKbru4AIoYorvpirKWIlIoCXWpYxBDF/gPw1KJ4SxEpAQW6SC7rH066ApERU6BL7WqeFN3m/fHVIVIiCnSpXRffnXQFIiWlQJfapflDJWUU6CJRdGFUqowCXWrb+GnRbesfia0MkVJQoEttOz/nB54DuvOiVBkFutS2me1gEW8D3RtdqowCXWTW53Ivn352vHWIjJECXWT2stz3dtn6S93XRaqKAl0E4L3Nw5f1dGvSaKkqCnQRgD1bR7ZcpAIp0EUAmifmXt54aLx1iIyBAl0kn569Oo8uVUOBLgLQvSu67f8ujK8OkTFQoIsAjJ8a3aaJo6VKKNBFIP8nRkWqhAJdBArfeVHn0aUKKNBFivHMzUlXIFKQAl2kGN3vJV2BSEEKdJEB+aakE6kCCnSRAfmmpFPYSxVQoIsMmNkObdcNX17fpPlHpSoo0EUyzV4Gl30XGg87uKy/F95em1xNIkVSoItke3tt8JH/Ad4PnQ9qjlGpeAp0kWxRc4l2PhRrGSIjpUAXyRY5l6jrKF0qWlGBbmYXmdlGM9tkZotztC8ys9fM7BUz+6mZHVf6UkVikm8u0aijd5EKUDDQzaweuA+4GDgFmG9mp2R1ewloc/eZwL8A95S6UJHYzLomui3y6F0kecUcoZ8JbHL3ze5+AFgBXJrZwd2fc/d94Y9rgTy3rhOpcLOXRbeZzlJK5Spm75wCbMn4eWu4LMp1wDO5GszsBjPrNLPOrq6u4qsUiVuu8egQjHjRjbqkQpX0cMPMrgLagKW52t39AXdvc/e21tbWUm5apLRmLwMizqU/+ZVYSxEpVkMRfbYB0zJ+nhouG8LMLgBuAc5xd80IICkQcb48c4y6SAUp5gj9ReAEM5thZk3APKAjs4OZnQH8L2COu79b+jJFRKSQgoHu7r3AQmA18FtgpbtvMLM7zWxO2G0pcDjwIzN72cw6IlYnIiJlUswpF9z9aeDprGW3ZTy+oMR1iSSv6TA4EHF65alF+UfDiCRAY7BEosz+VnRb54Ma7SIVR4EuEqXQPKOalk4qjAJdJJ/x06LbNC2dVBgFukg+599WuI9IhVCgi+Qzsz24OBpF59GlgijQRQrJd3FU59GlgijQRQrJd3G0+z0dpUvFUKCLFCPfxVHd20UqhAJdpBj5Lo7q3i5SIRToIsUoNCb90Tn520VioEAXKVa+yS3efF7n0iVxCnSRYs36XP72H38+njpEIijQRYpV6GZcmm9UEqZAFxmJqKnpBui0iyRIgS4yEoWO0ld9MZ46RHJQoIuMVMvJ0W39B+DbZ8VXi0gGBbrISC1cBxYxgTTAjtd16kUSoUAXGY1P35+//Ynr46lDJIMCXWQ0Cn3QCOCbx5a/DpEMCnSR0apryt++f48+QSqxUqCLjNbc+wr3efN5hbrERoEuMloz22HGOYX7vfl8+WsRQYEuMjZXdxTXb8kkjXyRslOgi4zVZd8tolNfMPJFoS5lpEAXGauZ7YVvCTDgievhqUXlrUdqlgJdpBRmLys+1Dsf1JBGKQsFukipzF5W3EVSCIY0LhkP/5jnNgIiI6RAFymlqzvy3+sl2/vvBMGu+79ICSjQRUpt4bqRhToE939ZMj74+sZkXTyVUVGgi5TDwnVgjaN7bs/e4OLpQMAvGa8LqVKUhqQLEEmt23fAHS3gPWNfV+eDwVchVhdMlVfovu2SSkUFupldBNwL1APfc/e7strHAY8Bs4CdwBXu/lZpS61Nq17axteeeIXunn4A6gyuPOtY/mHu6cP6LV29ke27u5k8oZkbLzyJuWdMKXkt2dsAuOPJDezadzC0DHBgQnMjZrB7X0/Omm5d9SrL171Nvw99Xjmt2LwTgHmLf1LmLQ14lDsaHmJB/bMAmJV5c96Pv/ggvFhE+FeQ/TTSSA91QB91/MmPZLLtHmz/ef+pLOi5hTl1L3BTw0om2w76qaOefrbTwqPNC3hgdxtz6l7g9obHmGTvA7CLw1nSs4CO/rMH12UG7jBlQjNXHvIL5u56iGPYwTu0sGritSz/4C8H9/EvH/0Sn3j7f3K0d/GutbLlwzeybdrsIe+D805u5bnXu4p675X7fWru+d9CZlYP/A74JLAVeBGY7+6vZfT5AjDT3T9vZvOAT7v7FfnW29bW5p2dnWOtP9VWvbSNRT98mf4cbVd99GCoB6H/Kt09B+e0bG6s55uXnV6ynSXXNhrrjH6gr7+4GM6s6dZVr/KDtW+XpLaRWLF8MQDzrryrQM/Se6bpRk62beUP9RRwH/rLzx1e9ykcZ10cageG9d/nTfyo7xPMq3+OcTZ0btcD3sB/77lhSKgDzKl7gbsavzdkffu8icU9f0NH/9mR7bf0Xc+Pez8WWXvUe69U71MzW+/ubbnaijmHfiawyd03u/sBYAVwaVafS4FHw8f/Apxvpt12rJau3pgzzAEeX7dlSL/MnQSgu6ePpas3lrSW7G309HvRYZ5dU2b9teLiA0v5cs8XeN8PwT0IKcktOz3M4GTbljPMAQ61A3y2/mfDwhygyXq5qWH4ReabGlYOW9+hdmCwb1T7V+t+mLf2qPdeHO/TYgJ9CpD57tsaLsvZx917gT3AUdkrMrMbzKzTzDq7urpGV3EN2b67O7KtLyMNovrle34paxnNevpqNM06+s/mtP0PMWP/cn7ef+pgsNfoy1FS9ZGHPzDZduZYtiNv30Lt+eR6v8TxPo11lIu7P+Dube7e1traGuemq9LkCc2RbfUZhzBR/fI9v5S1jGY99foDjgU9tzBj/3Jm7F/OY30X0J8R7gr5kevLE2fbfdjxJdu9JW/fQu355Hq/xPE+LSbQtwHTMn6eGi7L2cfMGoDxBBdHZQxuvPCkyP+g+WdNG9KvuXHoHJfNjfWDFy1LVUv2NhrrjPq64oM5s6bM+gVu772W48Nwzwz57IDP95Um2f+egXPo+zz3pCL7vIn/3ffX7Pfhc70e8Abu6R0+w9Q9ve3D1rfPmwb7RrX/U3/ey4OR77043qfFjHJ5ETjBzGYQBPc84MqsPh3A1cAvgMuBn3mhq61S0MCFkkKjXAb6lfPqedQ2YHSjXAbqj3uUSzW5vfdabu+9tqi+v2q6jomU7k/3uOUc5cLIR7ms7z+x6FEu64/8JA8fcng4ymUn73AUqyZey/oP/hLb3c36Iz/JU0e3hKNcdvCutbBl1o2cM202vxzFKJc43qcFR7kEL4BdAnyLYNjiQ+7+DTO7E+h09w4zOwT4PnAG8B4wz90351unRrlIIs49N/i+Zk2SVYiMWr5RLkWNQ3f3p4Gns5bdlvH4A+A/j6VIEREZG330X0QkJRToIiIpoUAXEUkJBbqISEoUNcqlLBs26wL+kKOpBcj9Ea3KojpLpxpqBNVZaqpzdI5z95yfzEws0KOYWWfUkJxKojpLpxpqBNVZaqqz9HTKRUQkJRToIiIpUYmB/kDSBRRJdZZONdQIqrPUVGeJVdw5dBERGZ1KPEIXEZFRUKCLiKREWQPdzC4ys41mtsnMFudoH2dmPwzb15nZ9HD5dDPrNrOXw6/7M54zy8xeDZ/zP0ox1d0Y6vxsRo0vm1m/mX0obFsTrnOg7egY6vyEmf3KzHrN7PKstqvN7Pfh19UZy5N4PXPWaWYfMrNfmNkGM3vFzK7IaHvEzN7MeD0/lFSdYVtfRi0dGctnhPvIpnCfyX0D7zLXaGbnZe2bH5jZ3LAtiddykZm9Fv6//tTMjstoq6R9M2edce+bo+buZfkiuNXuG8DxQBPwa+CUrD5fAO4PH88Dfhg+ng78JmK9vwQ+SnD77GeAi5OqM6vP6cAbGT+vAdpifj2nAzOBx4DLM5ZPAjaH3yeGjycm+HpG1XkicEL4eDLwDjAh/PmRzL5Jvp5h2/sR611JcPtogPuBv0uqxqz///eAQxN8Lc/L2P7fcfC9Xmn7ZlSdse2bY/kq5xF6ySeXNrNjgCPdfa0Hr+RjwNwKqXN++NxyKVinu7/l7q/AsMkVLwT+1d3fc/ddwL8CFyX1ekbV6e6/c/ffh4+3A+8C5ZqrcCyvZ07hPvHXBPsIBPvMWF7PUtV4OfCMu+8bQy1jrfO5jO2vJZj5DCpv38xZZ8z75qiVM9DHOrn0DDN7ycyeN7OPZ/TfWmCdcdc54Arg8axlD4d/gn29BH8uFlPnSJ+b1OtZkJmdSXAU9UbG4m+Ef+7+s5mNG1uZY67zEAsmPF87cCqDYJ/YHe4jo1lnqWscMI/h+2aSr+V1BEfc+Z5bCftmZp2DYtg3R61SL4q+Axzr7mcAi4DlZnZkwjVFMrOzgH3u/puMxZ9199OBj4df/yWR4qpQeHT2feBz7j5w5Pk14GTgIwR/nt+cUHkDjvPg4+BXAt8ysz9PuJ6cwtfydGB1xuLEXkszuwpoA5bGtc3RiKqz0vfNcgb6qCeXdvf97r4TwN3XE/wmPDHsPzXj+bnWGVudGe3DjoDcfVv4/T+A5QR/7pW7zpE+N6nXM1L4i/snwC3uvnZgubu/44H9wMMk+3pm/v9uJrhecgbBPjEh3EdGvM5S1xhqB37s7oOTvib1WprZBcAtwJxw2/mem9i+GVFnnPvm6JXr5DzB9HabgRkcvABxalafLzL0YuPK8HErUB8+Pp7gRZ/kuS+UXJJUneHPdWF9x2etsyV83EhwTvXz5a4zo+8jDL8o+ibBRaeJ4ePEXs88dTYBPwW+kqPvMeF3I5jf9q4E65wIjAsftwC/J7y4BvyIoRdFv5BEjRnL1wLnJf1aEvzCe4PwwmKl7pt56oxt3xzTv7GsK4dLgN+FL9At4bI7CX7zARwSvgE2hf95x4fLPwNsAF4GfgV8KmOdbcBvwnV+m/DTrknUGbadC6zNWt9hwHrglfDfcS/hL6gy1/kRgvOCewmOFjdkPPfasP5NBH8uJvl65qwTuAroCf/fB74+FLb9DHg1rPUHwOEJ1vlXYS2/Dr9fl7HO48N9ZFO4z4xL8P98OsHBRl3WOpN4LZ8F/pTx/9pRoftmzjrj3jdH+6WP/ouIpESlXhQVEZERUqCLiKSEAl1EJCUU6CIiKaFAFxFJCQW6iEhKKNBFRFLi/wNV5DbISOeqAwAAAABJRU5ErkJggg==\n",
      "text/plain": [
       "<figure size="" 432x288="" with="" 1="" axes="">"
      ]
     },
     "metadata": {
      "needs_background": "light"
     },
     "output_type": "display_data"
    }
   ],
   "source": [
    "#plotting\n",
    "#scatter plot\n",
    "plt.plot(x,y,'o')\n",
    "plt.plot(X_test,y_pred2,'o')\n",
    "plt.axhline(y = 0.5, color = 'r', linestyle = '-')\n",
    "plt.axvline(x = grenze, color = 'r', linestyle = '-') # Berechneter Wert bei y=0.5\n",
    "plt.show()\n",
    "\n",
    "#Auch hier sieht man die nicht-perfekte Trennung der Datenpunkte in x, aber das Modell ist ziemlich gut. "
   ]
  },
  {
   "cell_type": "markdown",
   "metadata": {},
   "source": [
    "Zusammenfassend koennen wir sagen, dass 'meanfun' gut fuer die Klassifikation funktioniert, aber man ca. 5% der Leute falsch klassifizieren wird. Fuer eine reale Anwendung wuerde man wahrscheinlich 2 Variablen verwenden (also meanfun und noch eine andere) um den Prozentsatz der falschen Klassifikationen noch zu minimieren."
   ]
  },
  {
   "cell_type": "code",
   "execution_count": null,
   "metadata": {},
   "outputs": [],
   "source": []
  }
 ],
 "metadata": {
  "kernelspec": {
   "display_name": "Python 3",
   "language": "python",
   "name": "python3"
  },
  "language_info": {
   "codemirror_mode": {
    "name": "ipython",
    "version": 3
   },
   "file_extension": ".py",
   "mimetype": "text/x-python",
   "name": "python",
   "nbconvert_exporter": "python",
   "pygments_lexer": "ipython3",
   "version": "3.6.9"
  }
 },
 "nbformat": 4,
 "nbformat_minor": 2
}
</figure></figure></figure></figure></figure></body></html>