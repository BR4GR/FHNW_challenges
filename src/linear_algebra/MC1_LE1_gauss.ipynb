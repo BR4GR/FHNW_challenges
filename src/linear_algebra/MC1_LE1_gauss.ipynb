{
 "cells": [
  {
   "cell_type": "markdown",
   "metadata": {},
   "source": [
    "<div style=\"width: 80%\">\n",
    "<img src=\"image.png\"><br>\n",
    "<div style=\"font-size: 20pt; float: left;\">Grundlagen der linearen Algebra</div>\n",
    "<div style=\"font-size: 20pt; text-align: right;\">HS 2023</div>\n",
    "<div style=\"font-size: 15pt; margin-top: 10px;\">Fachexperten: Kathrin Gerhard, Roger Burkhardt</div>\n",
    "</div>\n",
    "<br>\n",
    "\n",
    "\n",
    "# Mini-Challenge 1 (MC1): Implementierung des Gauss-Verfahrens\n",
    "\n",
    "**Ziel der Ãœbung**\n",
    "\n",
    "Ziel dieser ProgrammierÃ¼bung sind einfache Anwendungen von Python und numpy, mit dem Fokus auf die ReprÃ¤sentation und Manipulation von Matrizen, womit die Studierenden in der ersten, unbewerteten ProgrammierÃ¼bung einige erste Erfahrungen gesammelt haben sollten. Dabei soll der Gauss-Algorithmus zur Umformung einer erweiterten Koeffizientenmatrix in die Zeilenstufenform als Funktion implementiert werden, um das VerstÃ¤ndnis fÃ¼r diesen zu vertiefen.\n",
    "\n",
    "* In der ersten Aufgabe werden die elementaren Zeilenumformungen in Python implementiert. Dazu werden Python-Funktionen eingefÃ¼hrt und der Unterschied zwischen call-by-value und call-by-reference wird erklÃ¤rt. Die Funktionen sollen die entsprechenden Slices (=Zeilen) aus Matrizen extrahieren und der Aufgabenstellung entsprechend verÃ¤ndern. \n",
    "\n",
    "* In der zweiten Aufgabe werden Sie das in der Vorlesung besprochene Gauss-Verfahren mit den in Aufgabe 1 implementierten elementaren Zeilenumformungen auf eine beispielhafte Matrix anwenden und diese in Zeilenstufenform bringen, damit Sie die LÃ¶sung des Gleichungssystems bestimmen kÃ¶nnen.\n",
    "\n",
    "* In der dritten Aufgabe werden Sie Ihr Vorgehen in der zweiten Aufgabe formalisieren und automatisieren und eine Funktion erstellen, die mit dem Gauss-Verfahren eine Matrix fÃ¼r Sie automatisch in Zeilenstufenform bringt. Sie werden dabei Ihre Implementierung auf mehrere Beispielmatrizen anwenden und es auf seine korrekte Funktionsweise Ã¼berprÃ¼fen.\n",
    "\n",
    "Wir stellen Ihnen teilweise schon Teile der Implementierung zur VerfÃ¼gung. VerÃ¤ndern Sie bitte diese RahmengerÃ¼ste nicht, sondern fÃ¼gen Sie Ihren Code zwischen den Kommentaren `# IHR CODE BEGINNT HIER` und `# IHR CODE ENDET HIER` ein.\n",
    "\n",
    "Sie dÃ¼rfen in dieses Notebook Ã¼ber den MenÃ¼punkt 'Insert' durchaus weitere Zeilen einfÃ¼gen. Falls Sie gerne Markdown-Notizen in die Zelle einfÃ¼gen mÃ¶chten, kÃ¶nnen Sie den Modus der Zelle von 'Code' auf 'Markdown' setzen (oder Esc-M drÃ¼cken)."
   ]
  },
  {
   "cell_type": "markdown",
   "metadata": {},
   "source": [
    "## Aufgabe 1: Elementare Zeilenumformungen"
   ]
  },
  {
   "cell_type": "markdown",
   "metadata": {},
   "source": [
    "Sie haben in der Vorlesung die drei elementaren Zeilenumformungen kennengelernt, die ein Gleichungssystem in seiner ReprÃ¤sentation als erweiterte Koeffizientenmatrix in eine Ã¤quivalente Matrix Ã¼berfÃ¼hren. Diese Umformungen sind\n",
    "\n",
    "* Multiplikation einer Gleichung / Zeile der Matrix mit einem Skalar\n",
    "* Vertauschen zweier Gleichungen / Zeilen der Matrix\n",
    "* Addition einer Gleichung / Zeile der Matrix zu einer anderen\n",
    "\n",
    "Im Folgenden werden Sie fÃ¼r jede dieser drei Zeilenumformungen eine Python-Funktionen implementieren, die sie dann auf eine beliebige Matrix anwenden kÃ¶nnen. Zum ÃœberprÃ¼fen auf korrekte FunktionalitÃ¤t kÃ¶nnen Sie dabei folgende Matrix benutzen:"
   ]
  },
  {
   "cell_type": "code",
   "execution_count": 2,
   "metadata": {
    "ExecuteTime": {
     "end_time": "2024-02-17T10:58:23.064994700Z",
     "start_time": "2024-02-17T10:58:22.990007Z"
    }
   },
   "outputs": [
    {
     "name": "stdout",
     "output_type": "stream",
     "text": [
      "[[ 1.  1. -1.  3.]\n",
      " [ 1.  2. -2.  2.]\n",
      " [ 2. -1.  2. 15.]]\n"
     ]
    }
   ],
   "source": [
    "import numpy as np\n",
    "A = np.matrix( [[1,1,-1,3],[1,2,-2,2],[2,-1,2,15]], dtype=np.float64 )\n",
    "print( A )"
   ]
  },
  {
   "cell_type": "markdown",
   "metadata": {},
   "source": [
    "### Teilaufgabe 1a): Multiplikation mit einem Skalar"
   ]
  },
  {
   "cell_type": "markdown",
   "metadata": {},
   "source": [
    "Zuerst werden Sie eine Funktion implementieren, die eine beliebige Zeile einer Matrix mit einem Skalar multipliziert. Wir haben das GerÃ¼st der Funktion (Definition, Parameter, RÃ¼ckgabewert) bereits fÃ¼r Sie vorgegeben. [Hier](https://en.wikibooks.org/wiki/Python_Programming/Functions) finden Sie eine vertiefte EinfÃ¼hrung in Python-Funktionen.\n",
    "\n",
    "**Hinweis:** Beachten Sie, dass wir explizit eine Kopie der Matrix erstellen: StandardmÃ¤ssig Ã¼bergibt Python Matrizen mit call-by-reference, d.h. alle Operationen auf der Ã¼bergebenen Matrix M werden auf dem original ausgefÃ¼hrt, was oft effizienter ist als eine Kopie (call-by-value) zu erstellen. In diesem Fall ist es aber sauberer, die ursprÃ¼ngliche Matrix nicht anzurÃ¼hren, sondern eine Kopie zu machen und diese explizit zurÃ¼ckzugeben. Machen Sie im Folgenden wenn immer mÃ¶glich eine Kopie der Ã¼bergebenen Matrix."
   ]
  },
  {
   "cell_type": "code",
   "execution_count": 3,
   "metadata": {
    "ExecuteTime": {
     "end_time": "2024-02-17T10:59:50.845516700Z",
     "start_time": "2024-02-17T10:59:50.843189Z"
    }
   },
   "outputs": [],
   "source": [
    "def multipliziere( M, zeile, skalar ):\n",
    "    \"\"\"\n",
    "    Multipliziert eine Zeile einer Matrix mit einem skalaren Faktor.\n",
    "        \n",
    "    Arguments:\n",
    "    M -- Matrix mit shape (m,n)\n",
    "    zeile -- Zeile, die multipliziert werden soll\n",
    "    skalar -- Faktor, mit dem die Zeile multipliziert werden soll\n",
    "    \n",
    "    Returns:\n",
    "    Matrix mit skalarem Faktor multiplizierter Zeile \n",
    "    \"\"\"\n",
    "    M = M.copy()\n",
    "    \n",
    "    # IHR CODE BEGINNT HIER\n",
    "    M[zeile-1] = M[zeile-1]*skalar\n",
    "    \n",
    "    # IHR CODE ENDET HIER\n",
    "    \n",
    "    return M\n"
   ]
  },
  {
   "cell_type": "markdown",
   "metadata": {},
   "source": [
    "Sie kÃ¶nnen nun im folgenden Feld Ihre Funktion auf der Matrix **A** auf korrekte Funktion testen:"
   ]
  },
  {
   "cell_type": "code",
   "execution_count": 5,
   "metadata": {
    "ExecuteTime": {
     "end_time": "2024-02-17T11:00:32.499916800Z",
     "start_time": "2024-02-17T11:00:32.494980700Z"
    }
   },
   "outputs": [
    {
     "data": {
      "text/plain": "matrix([[ 2.,  2., -2.,  6.],\n        [ 1.,  2., -2.,  2.],\n        [ 2., -1.,  2., 15.]])"
     },
     "execution_count": 5,
     "metadata": {},
     "output_type": "execute_result"
    }
   ],
   "source": [
    "# IHR CODE BEGINNT HIER\n",
    "multipliziere(A, 1, 2)\n",
    "# IHR CODE ENDET HIER"
   ]
  },
  {
   "cell_type": "markdown",
   "metadata": {},
   "source": [
    "### Teilaufgabe 1b): Vertauschung zweier Zeilen"
   ]
  },
  {
   "cell_type": "markdown",
   "metadata": {},
   "source": [
    "Nun werden Sie auf die gleiche Weise die Vertauschung zweier Zeilen implementieren.\n",
    "\n",
    "**Hinweis**: Auch hier gilt es wieder, den Umgang von Python mit Matrzen zu beachten. Wenn Sie Ã¼ber den Indexoperator auf eine spezifische Zeile der Matrix zugreifen, gibt Python eine Referenz zum Speicherort dieser Zeile zurÃ¼ck, das ist platzsparend und sehr effizient. Das ist aber ebenfalls ein unerwÃ¼nschtes Verhalten hier - verwenden Sie darum ebenfalls\n",
    "M[ i,: ] = M[ j, : ].copy() wenn Sie eine Zeile einer anderen zuweisen wollen."
   ]
  },
  {
   "cell_type": "code",
   "execution_count": 18,
   "metadata": {},
   "outputs": [],
   "source": [
    "def vertausche( M, zeile1, zeile2 ):\n",
    "    \"\"\"\n",
    "    Vertauscht zwei Zeilen einer Matrix.\n",
    "        \n",
    "    Arguments:\n",
    "    M -- Matrix mit shape (m,n)\n",
    "    zeile1 -- Erste Zeile, die vertauscht werden soll\n",
    "    zeile2 -- Zweite Zeile, die vertauscht werden soll\n",
    "    \n",
    "    Returns:\n",
    "    Matrix mit vertauschten Zeilen\n",
    "    \"\"\"\n",
    "    M = M.copy()\n",
    "    \n",
    "    # IHR CODE BEGINNT HIER\n",
    "    x = M[zeile1-1].copy()\n",
    "    M[zeile1-1] = M[zeile2-1]\n",
    "    M[zeile2-1] = x\n",
    "    # IHR CODE ENDET HIER\n",
    "\n",
    "    return M"
   ]
  },
  {
   "cell_type": "markdown",
   "metadata": {},
   "source": [
    "Test der Funktion"
   ]
  },
  {
   "cell_type": "code",
   "execution_count": 19,
   "metadata": {},
   "outputs": [
    {
     "data": {
      "text/plain": [
       "array([[3, 4, 5],\n",
       "       [0, 1, 2],\n",
       "       [6, 7, 8]])"
      ]
     },
     "execution_count": 19,
     "metadata": {},
     "output_type": "execute_result"
    }
   ],
   "source": [
    "B = np.arange(9).reshape(3,3)\n",
    "\n",
    "# IHR CODE BEGINNT HIER\n",
    "vertausche(B, 1, 2)\n",
    "# IHR CODE ENDET HIER"
   ]
  },
  {
   "cell_type": "markdown",
   "metadata": {},
   "source": [
    "### Teilaufgabe 1c): Ersetzen einer Zeile durch eine nicht-triviale Linearkombination dieser Zeile mit einer anderen Zeile"
   ]
  },
  {
   "cell_type": "markdown",
   "metadata": {},
   "source": [
    "Mit den Kenntnissen aus den ersten beiden Teilaufgaben sollten Sie nun auch die letzte Funktion implementieren kÃ¶nnen:"
   ]
  },
  {
   "cell_type": "code",
   "execution_count": 20,
   "metadata": {},
   "outputs": [],
   "source": [
    "def ersetze( M, ziel_zeile, skalar1, zeile2, skalar2):\n",
    "    \"\"\"\n",
    "    Ersetzt die ziel_zeile durch die Linearkombination skalar1*ziel_zeile+skalar2*zeile2.\n",
    "        \n",
    "    Arguments:\n",
    "    M -- Matrix mit shape (m,n)\n",
    "    ziel_zeile -- Zeile, in die das Resultat gespeichert werden soll\n",
    "    skalar1 -- Multiplikationsfaktor der ziel_zeile\n",
    "    zeile2 -- Zeile, deren Vielfaches addiert werden soll\n",
    "    skalar2 -- Multiplikationsfaktor der zweiten Zeile\n",
    "    \n",
    "    Returns:\n",
    "    Matrix mit addierten Zeilen\n",
    "    \"\"\"\n",
    "    M = M.copy()\n",
    "    \n",
    "    # IHR CODE BEGINNT HIER\n",
    "    M[ziel_zeile-1] = M[ziel_zeile-1] * skalar1 + M[zeile2-1] * skalar2 \n",
    "    \n",
    "    # IHR CODE ENDET HIER\n",
    "    \n",
    "    return M"
   ]
  },
  {
   "cell_type": "markdown",
   "metadata": {},
   "source": [
    "Test der Funktion:"
   ]
  },
  {
   "cell_type": "code",
   "execution_count": 21,
   "metadata": {},
   "outputs": [
    {
     "data": {
      "text/plain": [
       "array([[ 0,  1,  2],\n",
       "       [ 3,  4,  5],\n",
       "       [ 9, 11, 13]])"
      ]
     },
     "execution_count": 21,
     "metadata": {},
     "output_type": "execute_result"
    }
   ],
   "source": [
    "# IHR CODE BEGINNT HIER\n",
    "ersetze(B,3, 1, 2, 1)\n",
    "\n",
    "# IHR CODE ENDET HIER"
   ]
  },
  {
   "cell_type": "markdown",
   "metadata": {},
   "source": [
    "## Aufgabe 2: Manuelle DurchfÃ¼hrung des Gauss-Verfahrens\n",
    "\n",
    "Nun haben Sie alle mÃ¶glichen Zeilenumformungen, welche die LÃ¶sungsmenge eines linearen Gleichungssystem (und damit seine erweiterte Koeffizientenmatrix) unverÃ¤ndert lassen, als Python-Funktionen implementiert.\n",
    "\n",
    "### Teilaufgabe 2a): Anwendung der Zeilenumformungen\n",
    "\n",
    "Bringen Sie die Matrix **B** durch elementare Zeilenumformungen auf Zeilenstufenform:"
   ]
  },
  {
   "cell_type": "code",
   "execution_count": 22,
   "metadata": {},
   "outputs": [
    {
     "name": "stdout",
     "output_type": "stream",
     "text": [
      "[[ 0.  1. -1.  3.]\n",
      " [ 1.  2. -2.  2.]\n",
      " [ 2. -1.  2. 15.]]\n"
     ]
    }
   ],
   "source": [
    "B = np.matrix( [[0,1,-1,3],[1,2,-2,2],[2,-1,2,15]], dtype=np.float64 )\n",
    "print( B )"
   ]
  },
  {
   "cell_type": "markdown",
   "metadata": {},
   "source": [
    "Benutzen Sie dazu fÃ¼r jede neue Umformung eine neue Jupyter-Zelle. Speichern Sie das Resultat der Zeilenumformung jeweils in B (z.B. `B = addiere( B, ... )`) und geben Sie die umgeformte Matrix jeweils mit `print( B )` aus."
   ]
  },
  {
   "cell_type": "code",
   "execution_count": 23,
   "metadata": {},
   "outputs": [
    {
     "data": {
      "text/plain": [
       "matrix([[ 1.,  2., -2.,  2.],\n",
       "        [ 0.,  1., -1.,  3.],\n",
       "        [ 2., -1.,  2., 15.]])"
      ]
     },
     "execution_count": 23,
     "metadata": {},
     "output_type": "execute_result"
    }
   ],
   "source": [
    "# IHR CODE BEGINNT HIER\n",
    "B = vertausche(B, 1, 2)\n",
    "B"
   ]
  },
  {
   "cell_type": "code",
   "execution_count": 24,
   "metadata": {},
   "outputs": [
    {
     "data": {
      "text/plain": [
       "matrix([[ 1.,  2., -2.,  2.],\n",
       "        [ 0.,  1., -1.,  3.],\n",
       "        [ 0., -5.,  6., 11.]])"
      ]
     },
     "execution_count": 24,
     "metadata": {},
     "output_type": "execute_result"
    }
   ],
   "source": [
    "B = ersetze(B, 3, 1, 1, -2)\n",
    "B"
   ]
  },
  {
   "cell_type": "code",
   "execution_count": 25,
   "metadata": {},
   "outputs": [
    {
     "data": {
      "text/plain": [
       "matrix([[ 1.,  2., -2.,  2.],\n",
       "        [ 0.,  1., -1.,  3.],\n",
       "        [ 0.,  0.,  1., 26.]])"
      ]
     },
     "execution_count": 25,
     "metadata": {},
     "output_type": "execute_result"
    }
   ],
   "source": [
    "B = ersetze(B, 3, 1, 2, 5)\n",
    "B"
   ]
  },
  {
   "cell_type": "code",
   "execution_count": 26,
   "metadata": {},
   "outputs": [
    {
     "data": {
      "text/plain": [
       "matrix([[ 1.,  2., -2.,  2.],\n",
       "        [ 0.,  1.,  0., 29.],\n",
       "        [ 0.,  0.,  1., 26.]])"
      ]
     },
     "execution_count": 26,
     "metadata": {},
     "output_type": "execute_result"
    }
   ],
   "source": [
    "B = ersetze(B, 2, 1, 3, 1)\n",
    "B\n",
    "# IHR CODE ENDET HIER"
   ]
  },
  {
   "cell_type": "code",
   "execution_count": 27,
   "metadata": {},
   "outputs": [
    {
     "data": {
      "text/plain": [
       "matrix([[  1.,   0.,  -2., -56.],\n",
       "        [  0.,   1.,   0.,  29.],\n",
       "        [  0.,   0.,   1.,  26.]])"
      ]
     },
     "execution_count": 27,
     "metadata": {},
     "output_type": "execute_result"
    }
   ],
   "source": [
    "B = ersetze(B, 1, 1, 2, -2)\n",
    "B"
   ]
  },
  {
   "cell_type": "code",
   "execution_count": 28,
   "metadata": {},
   "outputs": [
    {
     "data": {
      "text/plain": [
       "matrix([[ 1.,  0.,  0., -4.],\n",
       "        [ 0.,  1.,  0., 29.],\n",
       "        [ 0.,  0.,  1., 26.]])"
      ]
     },
     "execution_count": 28,
     "metadata": {},
     "output_type": "execute_result"
    }
   ],
   "source": [
    "B= ersetze(B, 1, 1, 3, 2)\n",
    "B"
   ]
  },
  {
   "cell_type": "markdown",
   "metadata": {},
   "source": [
    "### Teilaufgabe 2b): LÃ¶sung durch RÃ¼ckwÃ¤rtssubstitution\n",
    "\n",
    "Berechnen Sie die LÃ¶sung des durch die Matrix **B** reprÃ¤sentierten Gleichungssystems durch RÃ¼ckwÃ¤rtssubstitution und geben Sie die LÃ¶sungsmenge in der nÃ¤chsten Zelle im Markdown-Format an:"
   ]
  },
  {
   "cell_type": "code",
   "execution_count": 32,
   "metadata": {},
   "outputs": [
    {
     "name": "stdout",
     "output_type": "stream",
     "text": [
      "x = -4.0, y = 29.0, z = 26.0\n"
     ]
    }
   ],
   "source": [
    "# IHR CODE BEGINNT HIER\n",
    "x1 = B[0,3]\n",
    "x2 = B[1,3]\n",
    "x3 = B[2,3]\n",
    "print(f'x = {x1}, y = {x2}, z = {x3}')\n",
    "# IHR CODE ENDET HIER"
   ]
  },
  {
   "cell_type": "markdown",
   "metadata": {},
   "source": [
    "L=???"
   ]
  },
  {
   "cell_type": "markdown",
   "metadata": {},
   "source": [
    "## Aufgabe 3: Implementierung des Gauss-Verfahrens"
   ]
  },
  {
   "cell_type": "markdown",
   "metadata": {},
   "source": [
    "### Teil a): Implementierung des Gauss-Verfahrens"
   ]
  },
  {
   "cell_type": "markdown",
   "metadata": {},
   "source": [
    "Wir mÃ¶chten nun unser Vorgehen aus Aufgabe 2 automatisieren. Implementieren Sie eine Funktion `gauss_elimination`, die fÃ¼r eine beliebige Matrix **M** das Gauss-Verfahren durchfÃ¼hrt und sie damit auf Zeilenstufenform bringt. Wir stellen Ihnen dabei den Gauss-Algorithmus als Pseudocode zur VerfÃ¼gung. Versuchen Sie diesen Pseudecode mit der Vorlesung in Bezug zu setzen und setzen Sie ihn in eine Python-Implementation um, indem Sie die in Aufgabe 1 implementierten Funktionen verwenden."
   ]
  },
  {
   "cell_type": "markdown",
   "metadata": {},
   "source": [
    "<font size = 5>\n",
    "<hr style=\"height: 5px\">\n",
    "<b>Pseudocode fÃ¼r das Gauss-Verfahren</b>\n",
    "<hr style=\"height: 5px\">\n",
    "\n",
    "\n",
    "<ul style=\"line-height: 1.4\">\n",
    "    <li>setze m = Anzahl Zeilen der Matrix M und n = Anzahl Spalten der Matrix M</li>\n",
    "    <li>setze i, j = 0</li>\n",
    "    <li>solange i<m und j<n:</li>\n",
    "    <ul>\n",
    "        <li>setze l = -1</li>\n",
    "        <li>fÃ¼r k = i, .., m:</li>\n",
    "        <ul>\n",
    "            <li>falls |M[k,j])| > 0:</li>\n",
    "            <ul>\n",
    "                <li>l = k</li>\n",
    "                <li>beende die Schleife frÃ¼hzeitig</li>\n",
    "            </ul>\n",
    "        </ul>\n",
    "        <li>falls l >= 0:</li>\n",
    "            <ul>\n",
    "                <li>falls i $\\neq$ l:</li>\n",
    "                <ul>\n",
    "                    <li>vertausche die Zeilen i und l</li>\n",
    "                </ul>\n",
    "                <li>dividiere die Zeile i durch M[i,j]</li>\n",
    "                <li>fÃ¼r u = i+1, .., m:</li>\n",
    "                <ul><li>subtrahiere M[u,j] mal die i-te Zeile von der u-ten Zeile</li></ul>\n",
    "                <li>inkrementiere i = i+1</li>\n",
    "        </ul>\n",
    "        <li>inkrementiere j = j+1</li>\n",
    "     </ul>  \n",
    "</ul>          \n",
    "<hr style=\"height: 5px\">"
   ]
  },
  {
   "cell_type": "markdown",
   "metadata": {},
   "source": [
    "Sie benÃ¶tigen fÃ¼r diese Funktion die Kontrollstrukturen von Python (`for`, `if` und `while`) und ausserdem die `range`-Funktion, die Ihnen eine Liste von Zahlen zurÃ¼ckgibt, Ã¼ber die Sie mit `for` iterieren kÃ¶nnen. Ausserdem kann Ihnen die Anweisung `break` helfen, die eine Schleife in ihrer AusfÃ¼hrung vorzeitig abbricht."
   ]
  },
  {
   "cell_type": "code",
   "execution_count": null,
   "metadata": {},
   "outputs": [],
   "source": [
    "def gauss_elimination( M, print_steps=True ):\n",
    "    \"\"\"\n",
    "    Bringt die Matrix M mittels dem Gauss-Verfahren auf Zeilenstufenform\n",
    "        \n",
    "    Arguments:\n",
    "    M -- Matrix mit shape (m,n)\n",
    "    print_steps -- Gibt einzelne Berechnungsschritte aus falls True\n",
    "    \n",
    "    Returns:\n",
    "    Matrix in Zeilenstufenform\n",
    "    \"\"\"\n",
    "    M = M.copy()\n",
    "    m, n = M.shape\n",
    "    m = m+1\n",
    "    n = n+1\n",
    "\n",
    "    # IHR CODE STARTET HIER\n",
    "    \n",
    "    \n",
    "    # IHR CODE ENDET HIER\n",
    "    \n",
    "    return M"
   ]
  },
  {
   "cell_type": "markdown",
   "metadata": {},
   "source": [
    "### Teil b): Anwendung Ihrer Implementierung auf ausgewÃ¤hlte Matrizen"
   ]
  },
  {
   "cell_type": "markdown",
   "metadata": {},
   "source": [
    "Weiterhin stellen wir Ihnen eine Reihe von Matrizen zur VerfÃ¼gung, auf denen Sie Ihre Implementierung testen kÃ¶nnen. Berechnen Sie die einzelnen Schritte der Umwandlung in die Zeilenstufenform von Hand, dann kÃ¶nnen Sie sie mit den Schritten Ihrer Funktion vergleichen, wenn Sie `print_steps=True` verwenden."
   ]
  },
  {
   "cell_type": "code",
   "execution_count": null,
   "metadata": {},
   "outputs": [],
   "source": [
    "A = np.matrix( [[1,1,-1,3],[1,2,-2,2],[2,-1,2,15]], dtype=np.float64 )\n",
    "print( A )"
   ]
  },
  {
   "cell_type": "code",
   "execution_count": null,
   "metadata": {},
   "outputs": [],
   "source": [
    "# IHR CODE\n"
   ]
  },
  {
   "cell_type": "code",
   "execution_count": null,
   "metadata": {},
   "outputs": [],
   "source": [
    "B = np.matrix( [[0,1,-1,3],[1,2,-2,2],[2,-1,2,15]], dtype=np.float64 )\n",
    "print( B )"
   ]
  },
  {
   "cell_type": "code",
   "execution_count": null,
   "metadata": {},
   "outputs": [],
   "source": [
    "# IHR CODE\n"
   ]
  },
  {
   "cell_type": "code",
   "execution_count": null,
   "metadata": {},
   "outputs": [],
   "source": [
    "C = np.matrix( [[1,2,3,4],[5,6,7,8]], dtype=np.float64 )\n",
    "print(C)"
   ]
  },
  {
   "cell_type": "code",
   "execution_count": null,
   "metadata": {},
   "outputs": [],
   "source": [
    "# IHR CODE\n"
   ]
  },
  {
   "cell_type": "code",
   "execution_count": null,
   "metadata": {},
   "outputs": [],
   "source": [
    "D = np.matrix( [[1,2],[3,4],[6,8]], dtype=np.float64 )\n",
    "print(D)"
   ]
  },
  {
   "cell_type": "code",
   "execution_count": null,
   "metadata": {},
   "outputs": [],
   "source": [
    "# IHR CODE\n"
   ]
  },
  {
   "cell_type": "code",
   "execution_count": null,
   "metadata": {},
   "outputs": [],
   "source": [
    "E = np.array([[0,0,1,2,3],[0,0,7,14,11],[0,0,7,14,12]], dtype=np.float64 )\n",
    "print(E)"
   ]
  },
  {
   "cell_type": "code",
   "execution_count": null,
   "metadata": {},
   "outputs": [],
   "source": [
    "# IHR CODE\n"
   ]
  },
  {
   "cell_type": "code",
   "execution_count": null,
   "metadata": {},
   "outputs": [],
   "source": [
    "F = np.array([[0,1,2,3,4],[0,0,1,7,8],[0,0,0,1,11],[0,0,0,0,1]], dtype=np.float64 )\n",
    "print(F)"
   ]
  },
  {
   "cell_type": "code",
   "execution_count": null,
   "metadata": {},
   "outputs": [],
   "source": [
    "# IHR CODE\n"
   ]
  },
  {
   "cell_type": "markdown",
   "metadata": {},
   "source": [
    "**Kommentare**\n",
    "\n",
    "Gerne dÃ¼rfen Sie Kommentare zu Ihrer Funktion (wie sie funktioniert, was sie kann, was sie nicht kann) in eine Markdown-Zelle schreiben, indem Sie die untenstehende Zeile doppelklicken und anpassen. So kÃ¶nnen Sie je nachdem zusÃ¤tzliche Teilpunkte erreichen."
   ]
  },
  {
   "cell_type": "markdown",
   "metadata": {},
   "source": [
    "Formatierungsbeispiele (bitte entfernen):\n",
    "\n",
    "*kursiver Text*\n",
    "\n",
    "**fetter Text**\n",
    "\n",
    "`python_funktion()`\n",
    "\n",
    "AufzÃ¤hlung:\n",
    "* 1\n",
    "* 2\n",
    "* 3"
   ]
  },
  {
   "cell_type": "markdown",
   "metadata": {
    "collapsed": true
   },
   "source": [
    "# Freiwillige Zusatzaufgaben\n",
    "\n",
    "Die freiwilligen Zusatzaufgaben sind nicht mehr Teil des Mini-Challenge und geben keine Punkte. Trotzdem kÃ¶nnen Sie (falls Sie Zeit dazu haben) damit noch viel zum Thema dazulernen und sicherstellen, dass Sie alles verstanden haben."
   ]
  },
  {
   "cell_type": "markdown",
   "metadata": {},
   "source": [
    "## Zusatz 1: Rang einer Matrix bestimmen (einfach)\n",
    "\n",
    "Implementieren Sie eine Funktion `rang( M )`, die den Rang einer Matrix `M` aus deren Zeilenstufenform (Ã¼ber `gauss_elimination`) bestimmt.\n",
    "\n",
    "**Hinweis**: Die Funktionen np.sum(), np.any() oder np.all() kÃ¶nnen dabei sehr hilfreich sein."
   ]
  },
  {
   "cell_type": "code",
   "execution_count": null,
   "metadata": {},
   "outputs": [],
   "source": [
    "# IHR CODE"
   ]
  },
  {
   "cell_type": "markdown",
   "metadata": {},
   "source": [
    "## Zusatz 2: Gauss-Jordan-Verfahren -  Implementierung der RÃ¼ckwÃ¤rtssubstitution\n",
    "\n",
    "Implementieren Sie nun eine Funktion `gauss_jordan`, die eine Matrix mit `gauss_elimination` in Zeilenstufenform bringt und danach mit RÃ¼cksubstitution die Matrix auf die reduzierte Zeilenstufenform bringt. Diese Aufgabe ist nun etwas schwieriger als Aufgabe 3, da Sie nur noch den unten aufgefÃ¼hrten Hinweis bekommen. Wenden Sie die Funktion auf die Matrizen <b>A</b> bis <b>F</b> an.\n",
    "\n",
    "**Hinweis zum Algorithmus**:\n",
    "Verwenden Sie einen *Pivot*, d.h. eine Position in der Matrix dargestellt mit den Variablen `i` und `j`. Starten Sie ganz unten links in der Matrix und bewegen Sie den Pivot Schritt um Schritt nach rechts. Wenn Sie die erste 1 sehen (in der Matrix in Zeilenstufenform), addieren Sie passende vielfache der aktuellen Zeile zu allen oberen Zeilen und starten eine Zeile weiter oben wieder ganz links und iterieren nach rechts, bis Sie alle Zeilen abgearbeitet haben. Sie sollten auch den Fall berÃ¼cksichtigen, wenn eine Zeile nur aus Nullen besteht - dann mÃ¼ssen Sie am Ende der Zeile mit dem Pivot einfach an den Anfang der Zeile obendran springen."
   ]
  },
  {
   "cell_type": "code",
   "execution_count": null,
   "metadata": {},
   "outputs": [],
   "source": [
    "# IHR CODE"
   ]
  },
  {
   "cell_type": "markdown",
   "metadata": {},
   "source": [
    "## Zusatz 3: Solve-Funktion mit Fallunterscheidung\n",
    "\n",
    "Schreiben Sie eine Funktion solve( M ), die die Matrix $M$ mittels dem Gauss-Jordan-Verfahren in die reduzierte Zeilenstufenform bringt und anschliessend entweder falls mÃ¶glich ein LÃ¶sungstupel zurÃ¼ckgibt oder eine Meldung generiert, dass das System unendlich viele oder keine LÃ¶sungen besitzt."
   ]
  },
  {
   "cell_type": "code",
   "execution_count": null,
   "metadata": {},
   "outputs": [],
   "source": [
    "# IHR CODE"
   ]
  },
  {
   "cell_type": "code",
   "execution_count": null,
   "metadata": {},
   "outputs": [],
   "source": []
  },
  {
   "cell_type": "code",
   "execution_count": null,
   "metadata": {},
   "outputs": [],
   "source": []
  },
  {
   "cell_type": "code",
   "execution_count": null,
   "metadata": {},
   "outputs": [],
   "source": []
  }
 ],
 "metadata": {
  "kernelspec": {
   "display_name": "Python 3 (ipykernel)",
   "language": "python",
   "name": "python3"
  },
  "language_info": {
   "codemirror_mode": {
    "name": "ipython",
    "version": 3
   },
   "file_extension": ".py",
   "mimetype": "text/x-python",
   "name": "python",
   "nbconvert_exporter": "python",
   "pygments_lexer": "ipython3",
   "version": "3.10.9"
  }
 },
 "nbformat": 4,
 "nbformat_minor": 2
}
